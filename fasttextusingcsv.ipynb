{
  "nbformat": 4,
  "nbformat_minor": 0,
  "metadata": {
    "colab": {
      "provenance": [],
      "authorship_tag": "ABX9TyNIZGjf40nZ2XpoQuvMpbRb",
      "include_colab_link": true
    },
    "kernelspec": {
      "name": "python3",
      "display_name": "Python 3"
    },
    "language_info": {
      "name": "python"
    }
  },
  "cells": [
    {
      "cell_type": "markdown",
      "metadata": {
        "id": "view-in-github",
        "colab_type": "text"
      },
      "source": [
        "<a href=\"https://colab.research.google.com/github/Meenusj/fasttext/blob/main/fasttextusingcsv.ipynb\" target=\"_parent\"><img src=\"https://colab.research.google.com/assets/colab-badge.svg\" alt=\"Open In Colab\"/></a>"
      ]
    },
    {
      "cell_type": "code",
      "execution_count": null,
      "metadata": {
        "colab": {
          "base_uri": "https://localhost:8080/",
          "height": 319
        },
        "id": "YJtgGQ8MmweW",
        "outputId": "a80b57d4-49e7-4313-b461-44a938da03df"
      },
      "outputs": [
        {
          "output_type": "stream",
          "name": "stdout",
          "text": [
            "(5938, 9)\n"
          ]
        },
        {
          "output_type": "execute_result",
          "data": {
            "text/plain": [
              "                                TranslatedRecipeName  \\\n",
              "0                               Masala Karela Recipe   \n",
              "1                         Spicy Tomato Rice (Recipe)   \n",
              "2  Ragi Semiya Upma Recipe - Ragi Millet Vermicel...   \n",
              "\n",
              "                               TranslatedIngredients  TotalTimeInMins  \\\n",
              "0  1 tablespoon Red Chilli powder,3 tablespoon Gr...               45   \n",
              "1   2 teaspoon cashew - or peanuts, 1/2 Teaspoon ...               15   \n",
              "2  1 Onion - sliced,1 teaspoon White Urad Dal (Sp...               50   \n",
              "\n",
              "                Cuisine                             TranslatedInstructions  \\\n",
              "0                Indian  To begin making the Masala Karela Recipe,de-se...   \n",
              "1  South Indian Recipes  To make tomato puliogere, first cut the tomato...   \n",
              "2  South Indian Recipes  To begin making the Ragi Vermicelli Recipe, fi...   \n",
              "\n",
              "                                                 URL  \\\n",
              "0  https://www.archanaskitchen.com/masala-karela-...   \n",
              "1  https://www.archanaskitchen.com/spicy-tomato-r...   \n",
              "2  https://www.archanaskitchen.com/ragi-vermicell...   \n",
              "\n",
              "                                 Cleaned-Ingredients  \\\n",
              "0  salt,amchur (dry mango powder),karela (bitter ...   \n",
              "1  tomato,salt,chickpea lentils,green chilli,rice...   \n",
              "2  salt,rice vermicelli noodles (thin),asafoetida...   \n",
              "\n",
              "                                           image-url  Ingredient-count  \n",
              "0  https://www.archanaskitchen.com/images/archana...                10  \n",
              "1  https://www.archanaskitchen.com/images/archana...                12  \n",
              "2  https://www.archanaskitchen.com/images/archana...                12  "
            ],
            "text/html": [
              "\n",
              "  <div id=\"df-e7de394f-5060-4e1d-b040-70757fc4ecad\" class=\"colab-df-container\">\n",
              "    <div>\n",
              "<style scoped>\n",
              "    .dataframe tbody tr th:only-of-type {\n",
              "        vertical-align: middle;\n",
              "    }\n",
              "\n",
              "    .dataframe tbody tr th {\n",
              "        vertical-align: top;\n",
              "    }\n",
              "\n",
              "    .dataframe thead th {\n",
              "        text-align: right;\n",
              "    }\n",
              "</style>\n",
              "<table border=\"1\" class=\"dataframe\">\n",
              "  <thead>\n",
              "    <tr style=\"text-align: right;\">\n",
              "      <th></th>\n",
              "      <th>TranslatedRecipeName</th>\n",
              "      <th>TranslatedIngredients</th>\n",
              "      <th>TotalTimeInMins</th>\n",
              "      <th>Cuisine</th>\n",
              "      <th>TranslatedInstructions</th>\n",
              "      <th>URL</th>\n",
              "      <th>Cleaned-Ingredients</th>\n",
              "      <th>image-url</th>\n",
              "      <th>Ingredient-count</th>\n",
              "    </tr>\n",
              "  </thead>\n",
              "  <tbody>\n",
              "    <tr>\n",
              "      <th>0</th>\n",
              "      <td>Masala Karela Recipe</td>\n",
              "      <td>1 tablespoon Red Chilli powder,3 tablespoon Gr...</td>\n",
              "      <td>45</td>\n",
              "      <td>Indian</td>\n",
              "      <td>To begin making the Masala Karela Recipe,de-se...</td>\n",
              "      <td>https://www.archanaskitchen.com/masala-karela-...</td>\n",
              "      <td>salt,amchur (dry mango powder),karela (bitter ...</td>\n",
              "      <td>https://www.archanaskitchen.com/images/archana...</td>\n",
              "      <td>10</td>\n",
              "    </tr>\n",
              "    <tr>\n",
              "      <th>1</th>\n",
              "      <td>Spicy Tomato Rice (Recipe)</td>\n",
              "      <td>2 teaspoon cashew - or peanuts, 1/2 Teaspoon ...</td>\n",
              "      <td>15</td>\n",
              "      <td>South Indian Recipes</td>\n",
              "      <td>To make tomato puliogere, first cut the tomato...</td>\n",
              "      <td>https://www.archanaskitchen.com/spicy-tomato-r...</td>\n",
              "      <td>tomato,salt,chickpea lentils,green chilli,rice...</td>\n",
              "      <td>https://www.archanaskitchen.com/images/archana...</td>\n",
              "      <td>12</td>\n",
              "    </tr>\n",
              "    <tr>\n",
              "      <th>2</th>\n",
              "      <td>Ragi Semiya Upma Recipe - Ragi Millet Vermicel...</td>\n",
              "      <td>1 Onion - sliced,1 teaspoon White Urad Dal (Sp...</td>\n",
              "      <td>50</td>\n",
              "      <td>South Indian Recipes</td>\n",
              "      <td>To begin making the Ragi Vermicelli Recipe, fi...</td>\n",
              "      <td>https://www.archanaskitchen.com/ragi-vermicell...</td>\n",
              "      <td>salt,rice vermicelli noodles (thin),asafoetida...</td>\n",
              "      <td>https://www.archanaskitchen.com/images/archana...</td>\n",
              "      <td>12</td>\n",
              "    </tr>\n",
              "  </tbody>\n",
              "</table>\n",
              "</div>\n",
              "    <div class=\"colab-df-buttons\">\n",
              "\n",
              "  <div class=\"colab-df-container\">\n",
              "    <button class=\"colab-df-convert\" onclick=\"convertToInteractive('df-e7de394f-5060-4e1d-b040-70757fc4ecad')\"\n",
              "            title=\"Convert this dataframe to an interactive table.\"\n",
              "            style=\"display:none;\">\n",
              "\n",
              "  <svg xmlns=\"http://www.w3.org/2000/svg\" height=\"24px\" viewBox=\"0 -960 960 960\">\n",
              "    <path d=\"M120-120v-720h720v720H120Zm60-500h600v-160H180v160Zm220 220h160v-160H400v160Zm0 220h160v-160H400v160ZM180-400h160v-160H180v160Zm440 0h160v-160H620v160ZM180-180h160v-160H180v160Zm440 0h160v-160H620v160Z\"/>\n",
              "  </svg>\n",
              "    </button>\n",
              "\n",
              "  <style>\n",
              "    .colab-df-container {\n",
              "      display:flex;\n",
              "      gap: 12px;\n",
              "    }\n",
              "\n",
              "    .colab-df-convert {\n",
              "      background-color: #E8F0FE;\n",
              "      border: none;\n",
              "      border-radius: 50%;\n",
              "      cursor: pointer;\n",
              "      display: none;\n",
              "      fill: #1967D2;\n",
              "      height: 32px;\n",
              "      padding: 0 0 0 0;\n",
              "      width: 32px;\n",
              "    }\n",
              "\n",
              "    .colab-df-convert:hover {\n",
              "      background-color: #E2EBFA;\n",
              "      box-shadow: 0px 1px 2px rgba(60, 64, 67, 0.3), 0px 1px 3px 1px rgba(60, 64, 67, 0.15);\n",
              "      fill: #174EA6;\n",
              "    }\n",
              "\n",
              "    .colab-df-buttons div {\n",
              "      margin-bottom: 4px;\n",
              "    }\n",
              "\n",
              "    [theme=dark] .colab-df-convert {\n",
              "      background-color: #3B4455;\n",
              "      fill: #D2E3FC;\n",
              "    }\n",
              "\n",
              "    [theme=dark] .colab-df-convert:hover {\n",
              "      background-color: #434B5C;\n",
              "      box-shadow: 0px 1px 3px 1px rgba(0, 0, 0, 0.15);\n",
              "      filter: drop-shadow(0px 1px 2px rgba(0, 0, 0, 0.3));\n",
              "      fill: #FFFFFF;\n",
              "    }\n",
              "  </style>\n",
              "\n",
              "    <script>\n",
              "      const buttonEl =\n",
              "        document.querySelector('#df-e7de394f-5060-4e1d-b040-70757fc4ecad button.colab-df-convert');\n",
              "      buttonEl.style.display =\n",
              "        google.colab.kernel.accessAllowed ? 'block' : 'none';\n",
              "\n",
              "      async function convertToInteractive(key) {\n",
              "        const element = document.querySelector('#df-e7de394f-5060-4e1d-b040-70757fc4ecad');\n",
              "        const dataTable =\n",
              "          await google.colab.kernel.invokeFunction('convertToInteractive',\n",
              "                                                    [key], {});\n",
              "        if (!dataTable) return;\n",
              "\n",
              "        const docLinkHtml = 'Like what you see? Visit the ' +\n",
              "          '<a target=\"_blank\" href=https://colab.research.google.com/notebooks/data_table.ipynb>data table notebook</a>'\n",
              "          + ' to learn more about interactive tables.';\n",
              "        element.innerHTML = '';\n",
              "        dataTable['output_type'] = 'display_data';\n",
              "        await google.colab.output.renderOutput(dataTable, element);\n",
              "        const docLink = document.createElement('div');\n",
              "        docLink.innerHTML = docLinkHtml;\n",
              "        element.appendChild(docLink);\n",
              "      }\n",
              "    </script>\n",
              "  </div>\n",
              "\n",
              "\n",
              "<div id=\"df-67668f31-86a7-42bd-8f3e-1e7e40cf4bdb\">\n",
              "  <button class=\"colab-df-quickchart\" onclick=\"quickchart('df-67668f31-86a7-42bd-8f3e-1e7e40cf4bdb')\"\n",
              "            title=\"Suggest charts\"\n",
              "            style=\"display:none;\">\n",
              "\n",
              "<svg xmlns=\"http://www.w3.org/2000/svg\" height=\"24px\"viewBox=\"0 0 24 24\"\n",
              "     width=\"24px\">\n",
              "    <g>\n",
              "        <path d=\"M19 3H5c-1.1 0-2 .9-2 2v14c0 1.1.9 2 2 2h14c1.1 0 2-.9 2-2V5c0-1.1-.9-2-2-2zM9 17H7v-7h2v7zm4 0h-2V7h2v10zm4 0h-2v-4h2v4z\"/>\n",
              "    </g>\n",
              "</svg>\n",
              "  </button>\n",
              "\n",
              "<style>\n",
              "  .colab-df-quickchart {\n",
              "      --bg-color: #E8F0FE;\n",
              "      --fill-color: #1967D2;\n",
              "      --hover-bg-color: #E2EBFA;\n",
              "      --hover-fill-color: #174EA6;\n",
              "      --disabled-fill-color: #AAA;\n",
              "      --disabled-bg-color: #DDD;\n",
              "  }\n",
              "\n",
              "  [theme=dark] .colab-df-quickchart {\n",
              "      --bg-color: #3B4455;\n",
              "      --fill-color: #D2E3FC;\n",
              "      --hover-bg-color: #434B5C;\n",
              "      --hover-fill-color: #FFFFFF;\n",
              "      --disabled-bg-color: #3B4455;\n",
              "      --disabled-fill-color: #666;\n",
              "  }\n",
              "\n",
              "  .colab-df-quickchart {\n",
              "    background-color: var(--bg-color);\n",
              "    border: none;\n",
              "    border-radius: 50%;\n",
              "    cursor: pointer;\n",
              "    display: none;\n",
              "    fill: var(--fill-color);\n",
              "    height: 32px;\n",
              "    padding: 0;\n",
              "    width: 32px;\n",
              "  }\n",
              "\n",
              "  .colab-df-quickchart:hover {\n",
              "    background-color: var(--hover-bg-color);\n",
              "    box-shadow: 0 1px 2px rgba(60, 64, 67, 0.3), 0 1px 3px 1px rgba(60, 64, 67, 0.15);\n",
              "    fill: var(--button-hover-fill-color);\n",
              "  }\n",
              "\n",
              "  .colab-df-quickchart-complete:disabled,\n",
              "  .colab-df-quickchart-complete:disabled:hover {\n",
              "    background-color: var(--disabled-bg-color);\n",
              "    fill: var(--disabled-fill-color);\n",
              "    box-shadow: none;\n",
              "  }\n",
              "\n",
              "  .colab-df-spinner {\n",
              "    border: 2px solid var(--fill-color);\n",
              "    border-color: transparent;\n",
              "    border-bottom-color: var(--fill-color);\n",
              "    animation:\n",
              "      spin 1s steps(1) infinite;\n",
              "  }\n",
              "\n",
              "  @keyframes spin {\n",
              "    0% {\n",
              "      border-color: transparent;\n",
              "      border-bottom-color: var(--fill-color);\n",
              "      border-left-color: var(--fill-color);\n",
              "    }\n",
              "    20% {\n",
              "      border-color: transparent;\n",
              "      border-left-color: var(--fill-color);\n",
              "      border-top-color: var(--fill-color);\n",
              "    }\n",
              "    30% {\n",
              "      border-color: transparent;\n",
              "      border-left-color: var(--fill-color);\n",
              "      border-top-color: var(--fill-color);\n",
              "      border-right-color: var(--fill-color);\n",
              "    }\n",
              "    40% {\n",
              "      border-color: transparent;\n",
              "      border-right-color: var(--fill-color);\n",
              "      border-top-color: var(--fill-color);\n",
              "    }\n",
              "    60% {\n",
              "      border-color: transparent;\n",
              "      border-right-color: var(--fill-color);\n",
              "    }\n",
              "    80% {\n",
              "      border-color: transparent;\n",
              "      border-right-color: var(--fill-color);\n",
              "      border-bottom-color: var(--fill-color);\n",
              "    }\n",
              "    90% {\n",
              "      border-color: transparent;\n",
              "      border-bottom-color: var(--fill-color);\n",
              "    }\n",
              "  }\n",
              "</style>\n",
              "\n",
              "  <script>\n",
              "    async function quickchart(key) {\n",
              "      const quickchartButtonEl =\n",
              "        document.querySelector('#' + key + ' button');\n",
              "      quickchartButtonEl.disabled = true;  // To prevent multiple clicks.\n",
              "      quickchartButtonEl.classList.add('colab-df-spinner');\n",
              "      try {\n",
              "        const charts = await google.colab.kernel.invokeFunction(\n",
              "            'suggestCharts', [key], {});\n",
              "      } catch (error) {\n",
              "        console.error('Error during call to suggestCharts:', error);\n",
              "      }\n",
              "      quickchartButtonEl.classList.remove('colab-df-spinner');\n",
              "      quickchartButtonEl.classList.add('colab-df-quickchart-complete');\n",
              "    }\n",
              "    (() => {\n",
              "      let quickchartButtonEl =\n",
              "        document.querySelector('#df-67668f31-86a7-42bd-8f3e-1e7e40cf4bdb button');\n",
              "      quickchartButtonEl.style.display =\n",
              "        google.colab.kernel.accessAllowed ? 'block' : 'none';\n",
              "    })();\n",
              "  </script>\n",
              "</div>\n",
              "    </div>\n",
              "  </div>\n"
            ]
          },
          "metadata": {},
          "execution_count": 9
        }
      ],
      "source": [
        "import pandas as pd\n",
        "\n",
        "df = pd.read_csv(\"Cleaned_Indian_Food_Dataset.csv\")\n",
        "print(df.shape)\n",
        "df.head(3)"
      ]
    },
    {
      "cell_type": "code",
      "source": [
        "df.TranslatedInstructions[0]"
      ],
      "metadata": {
        "colab": {
          "base_uri": "https://localhost:8080/",
          "height": 140
        },
        "id": "CRQrOKwsnIoG",
        "outputId": "696927a4-c764-4990-ad56-9b2e4f3ff245"
      },
      "execution_count": null,
      "outputs": [
        {
          "output_type": "execute_result",
          "data": {
            "text/plain": [
              "'To begin making the Masala Karela Recipe,de-seed the karela and slice.\\nDo not remove the skin as the skin has all the nutrients.\\nAdd the karela to the pressure cooker with 3 tablespoon of water, salt and turmeric powder and pressure cook for three whistles.\\nRelease the pressure immediately and open the lids.\\nKeep aside.Heat oil in a heavy bottomed pan or a kadhai.\\nAdd cumin seeds and let it sizzle.Once the cumin seeds have sizzled, add onions and saute them till it turns golden brown in color.Add the karela, red chilli powder, amchur powder, coriander powder and besan.\\nStir to combine the masalas into the karela.Drizzle a little extra oil on the top and mix again.\\nCover the pan and simmer Masala Karela stirring occasionally until everything comes together well.\\nTurn off the heat.Transfer Masala Karela into a serving bowl and serve.Serve Masala Karela along with Panchmel Dal and Phulka for a weekday meal with your family.\\n'"
            ],
            "application/vnd.google.colaboratory.intrinsic+json": {
              "type": "string"
            }
          },
          "metadata": {},
          "execution_count": 10
        }
      ]
    },
    {
      "cell_type": "code",
      "source": [
        "import re\n",
        "\n",
        "text = 'To begin making the Masala Karela Recipe,de-seed the karela and slice.\\nDo not remove the skin as the skin has all the nutrients.\\nAdd the karela to the pressure cooker with 3 tablespoon of water, salt and turmeric powder and pressure cook for three whistles.\\nRelease the pressure immediately and open the lids.\\nKeep aside.Heat oil in a heavy bottomed pan or a kadhai.\\nAdd cumin seeds and let it sizzle.Once the cumin seeds have sizzled, add onions and saute them till it turns golden brown in color.Add the karela, red chilli powder, amchur powder, coriander powder and besan.\\nStir to combine the masalas into the karela.Drizzle a little extra oil on the top and mix again.\\nCover the pan and simmer Masala Karela stirring occasionally until everything comes together well.\\nTurn off the heat.Transfer Masala Karela into a serving bowl and serve.Serve Masala Karela along with Panchmel Dal and Phulka for a weekday meal with your family.\\n'\n",
        "\n",
        "re.sub(r\"[^\\w\\s]\", \" \", text, flags=re.MULTILINE)"
      ],
      "metadata": {
        "colab": {
          "base_uri": "https://localhost:8080/",
          "height": 140
        },
        "id": "bG38n0AunMtz",
        "outputId": "40cb7d20-dd6c-4b6f-c651-580d5ce6a90b"
      },
      "execution_count": null,
      "outputs": [
        {
          "output_type": "execute_result",
          "data": {
            "text/plain": [
              "'To begin making the Masala Karela Recipe de seed the karela and slice \\nDo not remove the skin as the skin has all the nutrients \\nAdd the karela to the pressure cooker with 3 tablespoon of water  salt and turmeric powder and pressure cook for three whistles \\nRelease the pressure immediately and open the lids \\nKeep aside Heat oil in a heavy bottomed pan or a kadhai \\nAdd cumin seeds and let it sizzle Once the cumin seeds have sizzled  add onions and saute them till it turns golden brown in color Add the karela  red chilli powder  amchur powder  coriander powder and besan \\nStir to combine the masalas into the karela Drizzle a little extra oil on the top and mix again \\nCover the pan and simmer Masala Karela stirring occasionally until everything comes together well \\nTurn off the heat Transfer Masala Karela into a serving bowl and serve Serve Masala Karela along with Panchmel Dal and Phulka for a weekday meal with your family \\n'"
            ],
            "application/vnd.google.colaboratory.intrinsic+json": {
              "type": "string"
            }
          },
          "metadata": {},
          "execution_count": 11
        }
      ]
    },
    {
      "cell_type": "code",
      "source": [
        "def preprocess(text):\n",
        "    text = re.sub(r'[^\\w\\s\\']',' ', text)\n",
        "    text = re.sub(r'[ \\n]+', ' ', text)\n",
        "    return text.strip().lower()"
      ],
      "metadata": {
        "id": "aBLr5-elnSay"
      },
      "execution_count": null,
      "outputs": []
    },
    {
      "cell_type": "code",
      "source": [
        "text = 'To begin making the Masala Karela Recipe,de-seed the karela and slice.\\nDo not remove the skin as the skin has all the nutrients.\\nAdd the karela to the pressure cooker with 3 tablespoon of water, salt and turmeric powder and pressure cook for three whistles.\\nRelease the pressure immediately and open the lids.\\nKeep aside.Heat oil in a heavy bottomed pan or a kadhai.\\nAdd cumin seeds and let it sizzle.Once the cumin seeds have sizzled, add onions and saute them till it turns golden brown in color.Add the karela, red chilli powder, amchur powder, coriander powder and besan.\\nStir to combine the masalas into the karela.Drizzle a little extra oil on the top and mix again.\\nCover the pan and simmer Masala Karela stirring occasionally until everything comes together well.\\nTurn off the heat.Transfer Masala Karela into a serving bowl and serve.Serve Masala Karela along with Panchmel Dal and Phulka for a weekday meal with your family.\\n'\n",
        "\n",
        "preprocess(text)"
      ],
      "metadata": {
        "colab": {
          "base_uri": "https://localhost:8080/",
          "height": 140
        },
        "id": "zDh5fEIinXYB",
        "outputId": "fd02e6d3-3d63-40fe-fb0c-3375940a65da"
      },
      "execution_count": null,
      "outputs": [
        {
          "output_type": "execute_result",
          "data": {
            "text/plain": [
              "'to begin making the masala karela recipe de seed the karela and slice do not remove the skin as the skin has all the nutrients add the karela to the pressure cooker with 3 tablespoon of water salt and turmeric powder and pressure cook for three whistles release the pressure immediately and open the lids keep aside heat oil in a heavy bottomed pan or a kadhai add cumin seeds and let it sizzle once the cumin seeds have sizzled add onions and saute them till it turns golden brown in color add the karela red chilli powder amchur powder coriander powder and besan stir to combine the masalas into the karela drizzle a little extra oil on the top and mix again cover the pan and simmer masala karela stirring occasionally until everything comes together well turn off the heat transfer masala karela into a serving bowl and serve serve masala karela along with panchmel dal and phulka for a weekday meal with your family'"
            ],
            "application/vnd.google.colaboratory.intrinsic+json": {
              "type": "string"
            }
          },
          "metadata": {},
          "execution_count": 5
        }
      ]
    },
    {
      "cell_type": "code",
      "source": [
        "df.TranslatedInstructions = df.TranslatedInstructions.map(preprocess)"
      ],
      "metadata": {
        "id": "Lx33sC8fndCa"
      },
      "execution_count": null,
      "outputs": []
    },
    {
      "cell_type": "code",
      "source": [
        "df.TranslatedInstructions[0]"
      ],
      "metadata": {
        "colab": {
          "base_uri": "https://localhost:8080/",
          "height": 140
        },
        "id": "Ih4kEhHjnjDm",
        "outputId": "92d6bdd4-e739-43bf-8c94-93eacf2a8ad0"
      },
      "execution_count": null,
      "outputs": [
        {
          "output_type": "execute_result",
          "data": {
            "text/plain": [
              "'to begin making the masala karela recipe de seed the karela and slice do not remove the skin as the skin has all the nutrients add the karela to the pressure cooker with 3 tablespoon of water salt and turmeric powder and pressure cook for three whistles release the pressure immediately and open the lids keep aside heat oil in a heavy bottomed pan or a kadhai add cumin seeds and let it sizzle once the cumin seeds have sizzled add onions and saute them till it turns golden brown in color add the karela red chilli powder amchur powder coriander powder and besan stir to combine the masalas into the karela drizzle a little extra oil on the top and mix again cover the pan and simmer masala karela stirring occasionally until everything comes together well turn off the heat transfer masala karela into a serving bowl and serve serve masala karela along with panchmel dal and phulka for a weekday meal with your family'"
            ],
            "application/vnd.google.colaboratory.intrinsic+json": {
              "type": "string"
            }
          },
          "metadata": {},
          "execution_count": 14
        }
      ]
    },
    {
      "cell_type": "code",
      "source": [
        "df.to_csv(\"food_receipes.txt\", columns=[\"TranslatedInstructions\"], header=None, index=False)"
      ],
      "metadata": {
        "id": "eIWmq1UhpI2F"
      },
      "execution_count": null,
      "outputs": []
    },
    {
      "cell_type": "code",
      "source": [
        "!pip install fasttext"
      ],
      "metadata": {
        "colab": {
          "base_uri": "https://localhost:8080/"
        },
        "id": "QwI1dyP4pSbF",
        "outputId": "52486f18-d8f7-479f-b468-ba25fa172e11"
      },
      "execution_count": null,
      "outputs": [
        {
          "output_type": "stream",
          "name": "stdout",
          "text": [
            "Collecting fasttext\n",
            "  Downloading fasttext-0.9.2.tar.gz (68 kB)\n",
            "\u001b[?25l     \u001b[90m━━━━━━━━━━━━━━━━━━━━━━━━━━━━━━━━━━━━━━━━\u001b[0m \u001b[32m0.0/68.8 kB\u001b[0m \u001b[31m?\u001b[0m eta \u001b[36m-:--:--\u001b[0m\r\u001b[2K     \u001b[90m━━━━━━━━━━━━━━━━━━━━━━━━━━━━━━━━━━━━━━━━\u001b[0m \u001b[32m68.8/68.8 kB\u001b[0m \u001b[31m2.2 MB/s\u001b[0m eta \u001b[36m0:00:00\u001b[0m\n",
            "\u001b[?25h  Preparing metadata (setup.py) ... \u001b[?25l\u001b[?25hdone\n",
            "Collecting pybind11>=2.2 (from fasttext)\n",
            "  Using cached pybind11-2.11.1-py3-none-any.whl (227 kB)\n",
            "Requirement already satisfied: setuptools>=0.7.0 in /usr/local/lib/python3.10/dist-packages (from fasttext) (67.7.2)\n",
            "Requirement already satisfied: numpy in /usr/local/lib/python3.10/dist-packages (from fasttext) (1.23.5)\n",
            "Building wheels for collected packages: fasttext\n",
            "  Building wheel for fasttext (setup.py) ... \u001b[?25l\u001b[?25hdone\n",
            "  Created wheel for fasttext: filename=fasttext-0.9.2-cp310-cp310-linux_x86_64.whl size=4199773 sha256=59aa3315388711ff0a4cfeff56e7e0b04652bb7169c8d46d91a9fb47f6be8882\n",
            "  Stored in directory: /root/.cache/pip/wheels/a5/13/75/f811c84a8ab36eedbaef977a6a58a98990e8e0f1967f98f394\n",
            "Successfully built fasttext\n",
            "Installing collected packages: pybind11, fasttext\n",
            "Successfully installed fasttext-0.9.2 pybind11-2.11.1\n"
          ]
        }
      ]
    },
    {
      "cell_type": "code",
      "source": [
        "import fasttext\n",
        "\n",
        "# Skipgram model :\n",
        "model = fasttext.train_unsupervised('food_receipes.txt', model='skipgram')\n"
      ],
      "metadata": {
        "id": "hrxmtMl0pN6t"
      },
      "execution_count": null,
      "outputs": []
    },
    {
      "cell_type": "code",
      "source": [
        "print(model.words)"
      ],
      "metadata": {
        "colab": {
          "base_uri": "https://localhost:8080/"
        },
        "id": "9F0NSi7BvRnO",
        "outputId": "b85e9962-e78a-42c2-d485-5d05f8836148"
      },
      "execution_count": null,
      "outputs": [
        {
          "output_type": "stream",
          "name": "stdout",
          "text": [
            "['the', 'and', 'a', 'to', 'add', 'it', 'in', 'with', 'for', 'of', 'recipe', 'heat', 'on', 'water', 'minutes', 'serve', 'oil', 'cook', 'powder', 'salt', 'is', 'into', 'until', 'pan', 'or', 'well', 'once', 'mix', '</s>', 'make', 'keep', 'you', 'till', 'begin', 'making', 'along', 'them', 'bowl', 'all', 'aside', 'this', 'seeds', 'turn', '2', 'rice', 'mixture', 'dough', 'your', 'about', 'off', 'leaves', 'cooked', 'pressure', 'stir', 'now', 'medium', 'as', 'will', 'dal', 'garlic', 'masala', 'place', '1', 'hot', 'let', 'are', 'over', 'green', 'red', 'take', 'allow', 'onions', 'chopped', 'paste', 'saute', 'some', 'coriander', 'after', 'curry', 'from', 'flour', '3', 'chicken', 'flame', 'little', 'at', 'can', 'ingredients', 'chilli', 'fry', 'done', 'brown', 'onion', 'out', '5', 'first', '10', '4', 'cooker', 'ginger', 'batter', 'sauce', 'then', 'coconut', 'boil', 'cumin', 'dry', 'sugar', 'soft', 'turmeric', 'if', 'cover', 'by', 'milk', 'cool', 'that', 'we', 'few', 'they', 'tomato', 'ghee', 'butter', 'taste', 'be', 'next', 'low', 'remove', 'ready', 'using', 'oven', 'style', 'chillies', 'smooth', 'cup', 'tomatoes', 'golden', 'mustard', 'meal', 'small', 'transfer', 'combine', 'seconds', 'pepper', 'an', 'get', 'top', 'together', 'pour', 'mixing', 'roasted', 'not', 'sprinkle', 'grind', 'chutney', 'when', 'roast', 'dinner', 'one', 'more', 'cheese', 'lemon', 'side', 'cut', 'vegetables', 'bread', 'adjust', 'juice', 'time', 'sides', 'paneer', 'mixer', 'give', 'pieces', 'minute', 'so', 'check', 'have', 'another', '15', 'baking', 'serving', 'set', 'salad', 'prepare', 'drain', 'wash', 'potatoes', 'roll', 'steamed', 'cream', 'spinach', 'garnish', 'soak', 'large', 'thick', 'like', 'potato', 'up', 'half', 'has', 'black', 'skillet', 'vegetable', 'down', 'kadai', 'spices', 'simmer', 'other', 'each', 'raw', 'spread', 'raita', 'same', 'teaspoon', 'whole', 'bring', '30', 'pasta', 'tablespoon', 'paratha', 'lunch', 'completely', 'bake', 'lid', 'beans', 'egg', 'switch', 'also', 'use', 'wheat', 'balls', 'remaining', 'cake', 'hours', 'warm', 'required', 'corn', 'grated', 'heavy', 'rest', 'saucepan', 'release', 'tea', 'filling', 'high', '20', 'whistles', 'do', 'plate', 'consistency', 'whisk', 'just', 'bottomed', 'chocolate', 'sweet', 'crackle', 'breakfast', 'stirring', 'yogurt', 'gravy', 'start', 'methi', 'preheat', 'fried', 'again', 'knead', 'while', 'spice', 'mango', 'both', 'carrot', 'cups', 'gently', 'turns', 'chili', 'dosa', 'cardamom', 'becomes', 'snack', 'olive', 'puree', 'garam', 'crisp', 'cinnamon', 'spicy', 'toss', 'light', 'cooking', 'grinder', 'step', 'ground', 'tamarind', 'become', 'sauté', 'comes', 'fresh', 'should', 'sabzi', 'open', 'adding', 'deep', 'spoon', 'eggs', 'paper', 'jaggery', 'curd', 'shape', 'wok', 'its', '6', 'everything', 'moong', '8', 'soup', 'urad', 'banana', 'put', 'naturally', 'chana', 'aloo', 'evenly', 'mint', 'enough', 'lightly', 'blend', 'tawa', 'sure', 'slices', 'any', 'mushroom', 'splutter', 'tadka', 'translucent', 'clean', 'two', 'chilies', 'grease', 'drizzle', 'colour', 'soaked', 'combined', 'cucumber', 'asafoetida', 'finally', 'process', 'slightly', 'mixed', 'peel', 'inch', 'blender', 'tray', 'fish', 'couple', 'oats', 'stick', 'tablespoons', 'delicious', 'through', 'form', 'boiled', 'dish', 'ball', 'idli', 'before', 'too', 'very', 'ki', 'dessert', 'peas', 'frying', 'flat', 'starts', 'immediately', 'meanwhile', 'chop', 'hour', 'weekday', 'flip', 'gets', 'boiling', 'thin', 'sambar', 'bit', 'smell', 'cloves', 'bottom', 'season', 'continue', 'baked', 'gas', 'press', 'firstly', 'coarse', 'jar', 'roti', 'chai', 'finely', 'least', 'good', 'indian', 'broccoli', '180', 'served', 'prepared', 'excess', 'nuts', 'coffee', 'sliced', 'even', 'sheet', 'carrots', 'portions', 'pumpkin', 'edges', 'cauliflower', 'mash', 'stuffed', 'fold', 'mushrooms', 'under', 'beetroot', 'creamy', 'noodles', 'steam', 'capsicum', 'seasoning', 'divide', 'fine', 'these', 'no', 'leaf', 'around', 'basil', 'slice', 'come', 'suit', 'sesame', 'weekend', 'mushy', 'tender', 'size', 'sandwich', 'skin', 'close', 'pinch', 'steamer', 'syrup', 'dip', 'cabbage', 'chaat', 'weeknight', 'gourd', 'c', 'bell', 'but', 'phulka', 'cooled', 'honey', 'bay', 'palak', 'beat', 'preheated', 'whistle', 'pizza', 'healthy', 'stage', 'tempering', 'rolling', 'coated', 'center', 'gram', 'surface', 'covered', 'peanuts', 'pudina', 'between', 'cashew', 'properly', 'mutton', 'rasam', 'layer', 'homemade', 'refrigerate', 'cubes', 'store', 'peppers', 'apple', 'glass', 'pulao', 'complete', 'fennel', '7', 'ice', 'hands', 'vanilla', 'evening', 'cold', 'enjoy', 'spring', 'leave', 'according', 'notice', 'carefully', 'reduce', 'coat', 'chickpeas', 'way', 'degree', 'away', 'ragi', 'fenugreek', 'hand', 'goes', 'besan', 'browned', 'help', 'color', 'dried', 'tofu', 'party', 'firm', 'overnight', 'brush', 'thai', 'slowly', 'crispy', 'dust', 'grill', 'flatten', 'during', 'orange', 'crushed', 'white', 'toast', 'kitchen', 'fruit', 'portion', 'equal', 'biryani', '12', 'need', 'saffron', 'sized', 'repeat', 'nice', 'rolled', 'which', 'container', 'prep', 'circle', 'onto', 'almonds', 'kadhi', 'see', 'thoroughly', 'towel', 'texture', 'jeera', 'drop', 'fruits', 'pineapple', 'spiced', 'continuously', 'aroma', 'fingers', 'hing', 'inside', 'bhindi', 'greased', 'puri', 'marinate', 'round', 'peanut', 'stuffing', 'thickens', 'cookies', 'sticky', 'grilled', 'celsius', 'flakes', 'arrange', 'temperature', 'soya', 'mexican', 'rava', 'shallow', 'wrap', 'mashed', 'fork', 'big', 'knife', 'pot', 'break', 'softened', 'powders', 'without', 'cloth', 'back', 'ka', 'released', 'vada', 'dressing', 'refrigerator', 'crust', 'lentils', 'wide', 'melted', 'food', 'lumps', 'ensure', 'quick', 'proceed', 'soften', 'tart', 'naan', 'melt', 'there', 'soy', 'sprouts', 'later', 'extract', 'including', 'zucchini', 'choice', 'baby', 'poriyal', 'paniyaram', 'kerala', 'i', 'eggplant', 'smoothie', 'millet', 'ladle', 'non', 'wet', 'almond', 'end', 'mentioned', 'either', 'wholesome', 'chilled', 'marinated', 'processor', 'brisk', 'vegetarian', 'parties', 'brinjal', 'accordingly', 'cookie', 'heated', 'degrees', 'apply', 'does', 'appetizer', 'separately', 'prawns', 'fill', 'such', 'air', 'room', 'bean', 'simple', 'mins', 'parchment', 'matar', 'platter', 'crumbs', 'bengali', 'strain', 'kuzhambu', 'freshly', 'vinegar', 'herbs', 'cheesy', 'lime', 'desired', 'base', 'pastry', 'needed', 'rolls', 'airtight', 'separate', 'gradually', 'pulp', 'oregano', '25', 'kofta', 'family', 'pie', 'quinoa', 'palm', 'rajma', 'peppercorns', 'assemble', 'per', 'south', 'long', 'sizzle', 'above', 'boondi', 'getting', 'poppy', 'foil', 'yeast', 'kashmiri', 'sunday', 'chunks', 'squeeze', 'seal', 'parathas', 'box', 'raisins', 'diameter', 'line', 'spatula', 'want', 'chettinad', 'cashews', 'pesto', 'filled', 'phulkas', 'slit', 'nicely', 'soda', 'toasted', 'eggless', 'used', 'centre', 'stock', 'kids', \"don't\", 'pickle', 'poha', 'almost', 'florets', 'stove', 'fluffy', 'levels', 'perfect', 'avoid', 'only', 'jackfruit', 'own', 'scoop', 'fridge', '200', 'halwa', 'much', 'andhra', 'absorbed', 'care', 'amount', 'spaghetti', 'made', 'moisture', 'pudding', 'lauki', 'date', 'pre', 'occasionally', 'times', 'bhaji', 'semolina', 'radish', 'palms', 'pakora', 'arbi', 'prevent', 'coarsely', 'running', 'drained', 'dhaniya', 'powdered', 'veggies', 'chinese', 'salsa', 'purpose', 'chickpea', 'strawberry', 'goan', 'chow', 'thicken', 'iron', 'papad', 'greens', 'similar', 'microwave', 'kebab', 'rose', 'except', 'melts', 'filter', 'releases', 'pat', 'sieve', 'mayo', 'would', 'roughly', 'marinade', 'yet', 'dhokla', 'pomegranate', 'fully', 'muffin', 'helps', 'dahi', 'cling', 'tikka', 'thoran', 'minced', 'full', 'seed', 'rack', 'keerai', 'buttermilk', 'how', 'absorbent', 'wait', 'toor', 'chips', 'kadhai', 'pav', 'method', 'shaped', 'middle', 'masalas', 'gujarati', 'extra', 's', 'pack', 'stem', 'point', 'mini', 'day', 'mangoes', 'softens', 'parsley', 'than', 'ajwain', 'karela', 'seasonings', 'parmesan', 'three', 'thickness', 't', 'lentil', 'crunchy', 'special', 'kala', 'rub', 'turning', 'caramelized', 'omelette', 'bananas', 'tandoori', 'drops', 'yellow', 'tight', 'may', 'tortilla', 'bottle', 'dates', 'forms', 'sour', 'karnataka', 'further', 'khichdi', 'crepe', 'discard', '40', 'greek', 'sit', 'avocado', 'leaving', 'kasuri', 'pachadi', 'inches', 'temper', 'chole', 'baingan', 'still', 'grate', 'free', 'kheer', 'our', 'part', 'washed', 'crumble', 'toothpick', 'keema', 'french', 'jowar', 'watermelon', 'everyday', 'burn', 'begins', 'pin', 'evaporated', 'cools', 'rajasthani', 'outer', 'pulse', 'approximately', 'sift', 'finger', 'tortillas', 'easy', 'liquid', 'bitter', 'cocoa', 'meat', 'drumstick', 'fritters', 'dark', 'patties', 'wire', 'kachumber', 'wine', 'rise', 'upma', 'pestle', 'papaya', 'piece', 'herbed', 'home', 'followed', 'strips', 'semi', 'hold', 'pistachios', 'broken', 'custard', 'yam', 'al', 'cooling', 'stiff', 'wedges', 'cavities', 'amchur', 'maharashtrian', 'lined', 'mortar', 'circular', 'takes', 'fragrant', 'dumplings', 'essence', 'quickly', 'achari', 'lachha', 'teaspoons', 'gobi', 'griddle', 'instant', 'masoor', 'cheesecake', 'brinjals', 'pancake', 'smear', 'rinse', 'maida', 'walnut', 'tikki', 'dals', 'flax', 'podi', 'makhani', 'absorb', 'snacks', 'hard', 'dente', 'cavity', 'morning', 'tin', 'elai', 'stand', 'mozzarella', 'makes', 'cutlet', 'lettuce', 'vadam', 'rosemary', 'punjabi', 'their', 'samosa', 'square', 'work', 'thyme', 'final', 'batches', 'chill', 'roasting', 'stew', 'bowls', 'vessel', 'kebabs', 'circles', 'walnuts', 'kneading', 'days', 'italian', 'electric', 'cheela', 'ladoo', 'thepla', \"it's\", 'feel', 'muffins', 'grinding', 'disc', 'loaf', 'flavors', 'tightly', 'noodle', 'changes', 'beaten', 'dill', 'pakoras', 'pickled', 'cutlets', '45', 'heating', 'left', 'flavours', 'aromas', 'important', 'plain', 'eggplants', 'feta', 'inserted', 'sooji', 'freezer', 'aromatic', 'spots', 'turned', 'itself', 'quantity', 'pyaz', 'sticking', 'cottage', 'dissolved', 'topping', 'caramel', 'coming', 'crepes', 'ketchup', 'summer', 'soaking', 'crush', 'blended', 'paprika', 'double', 'crumbled', 'bubbles', 'look', 'maker', 'paruppu', 'apples', 'dissolves', 'note', 'veg', 'bite', 'shredded', 'momo', 'order', 'pods', 'added', 'dum', 'every', 'skewer', 'damp', 'cutter', 'sprouted', 'lower', 'idlis', 'optionally', 'plates', 'star', 'olives', 'topped', 'keeping', 'similarly', 'friends', 'stuff', 'sabudana', 'since', 'school', 'zest', 'kootu', 'pita', 'buns', 'puff', 'comforting', 'regular', 'entire', 'brunch', 'bhurji', 'preparing', 'dollop', 'run', 'plastic', 'pound', 'penne', 'puli', 'right', 'incorporated', 'badam', 'aam', 'porridge', 'thandai', 'skewers', 'taco', 'thickened', 'amaranth', 'cherry', 'sev', 'whisked', 'looks', 'transparent', 'kuzhi', 'manchurian', 'amla', 'pancakes', 'coal', 'burnt', 'biscuits', 'nutmeg', 'fluff', 'burani', 'burger', 'grains', 'glasses', 'masher', 'wooden', 'apart', 'classic', '35', 'shapes', 'might', 'kesar', 'four', 'bajra', 'easily', 'hear', 'muslin', 'appam', 'strawberries', 'strands', 'sticks', 'outside', 'tangy', 'don', 'ridge', 'formed', 'finish', 'hummus', 'weight', 'celery', 'shahi', 'kachori', 'instructions', 'puffed', 'go', 'mooli', 'biscuit', 'suran', 'festive', 'vegan', 'makhana', 'appear', 'flavor', 'colander', 'drink', 'cubed', 'espresso', 'koftas', 'combines', 'insert', 'strainer', 'follow', 'faster', 'sindhi', 'condensed', '9', 'rich', 'nut', 'kozhukattai', 'speed', 'panna', 'eyed', 'payasam', 'optional', 'neer', 'been', 'parts', 'motion', 'stop', 'pressing', 'else', 'momos', 'collect', 'alternatively', 'could', 'flavour', 'chia', 'retain', 'film', 'ke', 'cilantro', 'foxtail', 'oatmeal', 'less', 'sadam', 'change', 'edge', 'risen', 'cast', 'smoked', 'sheets', 'vermicelli', 'pockets', 'palya', 'depending', 'traditional', 'herb', 'kulcha', 'generously', 'mangalorean', 'remain', 'five', 'lengthwise', 'whisking', 'burfi', 'swirl', 'evaporates', 'puris', 'whites', 'mor', 'directly', 'simmering', 'scrambled', 'glaze', 'flavored', 'malai', 'working', 'given', 'minimum', 'lukewarm', 'freeze', '4th', 'reaches', 'sautéed', 'separates', 'oat', 'second', 'muesli', 'last', 'slow', 'flattened', 'corns', 'asian', 'patty', 'anise', 'reserve', 'possible', 'okra', 'mode', 'reduced', 'handy', 'salted', 'whipped', 'steaming', 'shallots', 'protein', 'know', 'dhaba', 'sauteed', 'bajji', 'lump', 'prawn', 'soon', 'dipping', 'khoya', 'frosting', 'diced', 'vadas', 'crackles', 'de', 'blanch', 'great', 'mirchi', 'counter', 'panchmel', 'flipping', 'pliable', 'chapati', 'mousse', 'brownish', 'ends', 'pappu', 'bhakri', 'beet', 'basmati', 'doubled', 'gentle', 'level', 'listed', 'best', 'moist', 'cocktail', 'sun', 'leftover', 'cooks', 'try', 'flavoured', 'lift', 'longer', 'ferment', 'parwal', 'guests', 'charred', 'rotis', 'murgh', 'split', 'here', 'sizzler', 'mould', 'slotted', 'slide', 'dissolve', 'spoonful', 'cranberry', 'tamatar', 'moulds', 'kept', 'breast', 'nu', 'adrak', 'starter', 'cornflour', 'runny', 'pouring', 'night', 'uttapam', 'layers', 'shell', 'single', 'careful', 'grass', 'sauces', 'horse', 'f', 'recipes', 'thalipeeth', 'channa', 'smoking', 'overcook', 'resting', 'handle', 'kollu', 'kernels', 'resembles', 'covering', 'plum', 'sufficient', 'mayonnaise', 'closed', 'parotta', 'hence', 'immersed', 'broth', 'kabuli', 'pureed', 'thinly', 'cotta', 'atleast', 'peeled', 'mince', 'sandwiches', 'festivals', 'course', 'aluminium', 'marination', 'splutters', 'smoke', 'discs', 'sprout', 'individual', 'cupcake', 'gajar', 'mawa', 'rounds', 'flours', 'taking', 'shrimp', 'floured', 'kurma', 'couscous', 'dusting', 'gojju', 'was', 'most', 'breadcrumbs', 'additional', 'blanched', 'macaroni', 'cities', 'blitz', 'savory', 'towards', 'nutralite', 'sharp', 'ramekins', 'tikkis', 'find', 'list', 'samosas', 'ganache', 'caramelised', 'diabetic', 'ensuring', 'handi', 'space', 'kulfi', '350', 'placing', 'refrigerated', 'triangle', 'tap', 'tamil', 'meals', 'board', 'cutting', 'increase', 'mathri', 'kokum', 'crumbly', 'vigorously', 'house', 'peaks', 'constantly', 'nachos', 'rectangular', 'create', 'schezwan', 'bharwa', 'del', 'nadu', 'milagai', 'able', 'meantime', 'ahead', 'nonstick', 'halves', 'tip', 'figs', 'flower', 'mirch', 'amritsari', 'crumb', 'kidney', 'avarekalu', 'pani', 'hung', 'millets', 'pink', 'prefer', 'monte', 'pongal', 'thakkali', 'bought', 'punch', 'watery', 'cleaned', 'flames', 'brownie', 'touch', 'parsi', 'click', 'disappears', 'adai', 'khus', 'indo', 'diwali', 'pistachio', 'saag', 'mangalore', 'string', 'partially', 'piping', 'preference', 'batch', 'aur', 'petals', 'shaak', 'focaccia', 'sevai', 'squares', 'holes', 'test', 'intervals', 'karwar', 'bag', 'gulkand', 'thengai', 'thicker', 'bun', 'batata', 'crack', 'otherwise', 'main', 'wraps', 'veggie', 'semiya', 'icing', 'based', 'burning', 'hyderabadi', 'korma', 'lemongrass', 'bubbling', 'dumpling', 'waffle', 'layered', 'procedure', 'malvani', 'thogayal', 'quesadilla', 'chenna', 'fermented', 'folding', 'gelatin', 'prick', 'assamese', 'ricotta', 'automatically', 'poli', 'week', 'scramble', 'kaju', 'hariyali', 'ingredient', 'shaping', 'lotus', 'bath', 'volume', 'cakes', 'atta', 'move', 'gratin', 'shrimps', 'where', 'poori', 'shells', 'smaller', 'table', 'milagu', 'chopping', 'rotti', 'papdi', 'phirni', 'elaichi', 'below', 'frothy', 'packet', 'gone', 'melon', 'cornstarch', 'tacos', 'malabar', 'twice', 'buttered', 'buckwheat', 'us', 'reserved', 'prepped', 'risotto', 'bihari', 'ravioli', 'centigrade', 'north', 'muthia', 'gosht', 'casserole', 'gawar', 'starting', 'tava', 'bruschetta', 'wilt', 'barnyard', 'udupi', 'konkani', 'carom', 'manga', 'tzatziki', 'fig', 'rabri', 'tear', 'within', 'gatte', 'garnished', 'napkin', 'rings', 'infused', 'murukku', 'tiny', 'molds', 'juices', \"doesn't\", 'desiccated', 'months', 'puffs', 'bhaja', 'instruction', 'gulab', 'salan', 'lastly', 'guava', 'coats', 'iced', 'lot', 'pick', 'pull', 'includes', 'really', 'awadhi', 'chilly', 'sautéing', 'ladleful', 'reached', 'bubble', 'crunch', 'pea', 'triangles', 'vadai', 'pakoda', 'pilaf', 'vendakkai', 'fahrenheit', 'oval', 'must', 'yolk', 'cholar', 'panch', 'bamboo', 'addition', 'gather', 'bars', 'city', 'boils', 'snake', 'gassi', 'mysore', 'likewise', 'lobia', 'pista', 'wrapper', 'cheddar', 'coating', 'khatti', 'needs', 'instead', 'roundels', 'grounded', 'safe', 'slits', 'nutty', 'wish', 'broad', 'drumsticks', 'following', 'maple', 'favorite', 'steps', 'eat', 'nawabi', 'relish', 'bharta', 'tasty', '18', 'kachoris', 'moroccan', 'kizhangu', 'chivda', 'weeks', 'tindora', 'simply', 'tossed', 'releasing', 'facing', 'berries', 'kiwi', 'cupcakes', 'sichuan', 'scrape', 'thread', 'stems', 'yoghurt', 'sago', 'shake', 'vietnamese', 'raisin', 'chip', 'jamun', 'intact', 'lay', 'burrito', 'tossing', 'nutella', 'cuts', 'hakka', 'akki', 'whip', 'waffles', 'tissue', 'huli', 'blueberry', 'arugula', 'rajgira', 'quesadillas', 'deg', 'bonda', 'savoury', 'achaar', 'kalonji', 'hole', 'lassi', 'lovely', 'appetizers', 'grilling', 'gives', 'log', 'hearty', 'amti', 'au', 'kathirikai', 'parfait', 'torn', 'tester', 'boiler', 'muttai', 'guacamole', 'stay', 'jalapeno', 'sriracha', 'lankan', 'sri', 'aluminum', 'lemonade', 'dash', 'puttu', 'turai', 'pale', 'vengaya', 'pounded', 'containers', 'chena', 'saaru', 'proof', 'bind', 'pesarattu', 'tapioca', 'vepudu', 'coleslaw', 'different', 'gluten', 'crackled', 'washing', 'gujiya', 'posto', 'bhel', 'yummy', 'badi', 'pans', 'clear', 'croquettes', 'churma', 'crackling', 'removing', 'already', 'crackers', 'doi', '½', 'mung', 'nippattu', 'makki', 'generous', 'pearl', 'dries', 'fries', 'refreshing', 'goat', 'reduces', 'evaporate', 'phali', 'kathal', 'soggy', 'wilts', 'present', 'had', 'menu', 'usal', 'contents', 'multigrain', 'bites', 'steel', 'asafetida', 'kunafa', 'beater', 'grapes', 'rises', 'festival', 'sundal', 'granules', 'latte', 'perfectly', 'bacon', 'ada', 'preparation', 'clove', 'towels', 'sangria', 'flesh', 'kanji', 'applying', 'remember', 'spray', 'balsamic', 'cone', 'lasagna', 'plan', 'remains', 'fat', 'frozen', 'pinching', 'winter', 'palate', 'ten', 'often', 'jam', 'polenta', 'breasts', 'nutrition', 'pindi', 'necessary', 'paal', 'maas', 'cm', 'compote', 'ladies', 'assembling', 'replacer', 'ripe', 'sweetened', 'meetha', 'empanadas', 'energy', 'tie', 'pop', 'kale', 'gourds', 'chunky', 'tastes', 'forming', 'peri', 'harissa', 'dropping', 'allowing', 'chatpata', 'easier', 'wings', '50', 'choco', 'meethi', 'stone', 'brownies', 'incorporates', 'caramelize', 'barley', 'yolks', 'christmas', 'squash', 'vinaigrette', 'satisfying', 'ones', 'link', 'jasmine', 'super', 'browns', 'sunflower', 'loose', 'horizontally', 'usually', 'uniformly', 'placed', 'tahini', 'luchi', 'pair', 'occasion', 'going', 'measure', 'tall', 'agar', 'ash', 'fast', 'rested', 'slurry', 'reach', 'slight', 'chi', 'cherries', '170', 'dice', 'breaking', 'wipe', 'looking', 'sealed', 'stored', 'cluster', 'trim', 'absorbs', 'puran', 'granola', 'prunes', 'enchiladas', 'chops', 'afternoon', 'mace', 'breads', 'mughlai', 'being', 'phyllo', 'mold', 'koora', 'holi', 'haldi', 'hash', 'root', 'better', 'fall', '150', 'nimki', 'cranberries', 'beets', 'vadi', 'earlier', 'rectangle', 'oiled', 'namak', 'peels', 'upside', 'moon', 'drying', 'garnishing', 'doesn', 'bran', 'cucumbers', 'dalia', 'pulusu', 'murungai', 'chaas', 'invert', 'bele', 'opening', 'usili', 'settle', 'cylindrical', 'ladoos', 'upto', 'tempered', 'video', 'sweetness', 'third', 'senai', 'colocasia', 'peda', 'sprinkling', 'doing', 'ml', 'vindaloo', 'dusted', 'sarson', 'bengal', 'fit', 'giving', 'shred', 'wale', 'refried', 'corner', 'twist', 'tinda', 'charu', 'phoran', 'barbecue', 'moongphali', 'grain', 'chawal', 'modak', 'fudge', 'grainy', 'upper', 'skip', 'kesari', 'enos', 'satvik', 'length', 'wadi', 'lahsun', 'kela', 'malpua', 'gap', 'rum', 'browning', 'teriyaki', 'subzi', 'return', 'seasoned', 'layering', 'throw', 'payasa', 'uniform', 'cardamoms', 'springform', '220', 'friendly', 'peeling', 'pearls', 'mocktail', 'sizzling', 'berry', 'power', 'preferably', 'cube', 'tarts', 'pitha', 'tops', 'wali', 'quarter', 'maize', 'froth', 'yakhni', 'decorate', 'horsegram', 'britannia', 'gujiyas', 'x', 'trifle', 'uncovered', 'bigger', 'arisi', 'leeks', 'jalapenos', 'accompaniment', 'aval', 'sambal', 'save', 'spreading', 'vangi', 'kadubu', 'gobhi', 'ensures', 'tongs', 'liners', 'idiyappam', 'min', 'khara', 'hare', 'pinkish', 'nuggets', 'elastic', 'sukhi', 'chunda', 'bar', 'luke', 'glossy', 'bundi', 'dosas', 'goda', 'diagonally', 'disk', 'sundakkai', 'virgin', 'stays', 'nigella', 'kolhapuri', 'pass', 'tukda', 'sagu', 'diamond', 'dhokli', 'thinner', 'baguette', 'margherita', 'pinwheels', 'rasmalai', 'kosambari', 'flowing', 'corners', 'option', 'shiny', 'appears', 'popping', 'gongura', 'maximum', 'marble', 'recheado', 'love', 'stack', 'chat', 'shrikhand', 'bendekayi', 'wrapped', 'pomfret', 'frittata', 'apricots', 'kneaded', 'sweat', 'fusion', 'choose', 'chane', 'pakwan', 'pyaaz', 'kakdi', 'sandige', 'lebanese', '190', 'whey', 'chingri', 'edible', 'because', 'peshawari', 'oreo', 'glazed', 'beating', 'holds', 'juicy', 'jamuns', 'resemble', 'combining', 'etc', 'farfalle', 'thickening', 'bundt', 'vazhakkai', 'heart', 'centimeter', 'khatta', 'begun', 'sputter', 'hollow', 'pulav', 'prevents', 'sometime', 'flaky', 'ooze', 'souffle', 'melting', 'fillets', 'e', 'upon', 'whether', 'crisps', 'deseed', 'leek', 'many', 'macher', 'mocha', 'feels', 'sifted', 'occasions', 'dirt', 'doubles', 'flatbread', 'aubergine', 'japanese', 'develop', 'called', 'preheating', 'marks', 'moth', 'naans', 'ajar', 'pipe', 'sandesh', 'halved', 'cashewnuts', 'patta', 'stuck', '14', 'phool', 'incorporate', 'sizzles', 'halfway', 'lamb', 'himachali', 'rising', 'pod', 'chola', 'spoons', 'immerse', 'loaded', 'salmon', '400', 'dhania', 'started', 'mean', 'kaddu', 'poondu', 'smoothen', 'handful', 'par', 'sharbat', 'mesh', 'bringing', 'arabic', 'solution', 'matki', 'til', 'crab', 'decoction', 'peaches', 'toppings', 'shimla', 'barfi', 'broil', 'shikanji', 'attachment', 'grater', 'erissery', 'blending', 'checking', 'zoodles', 'bathua', 'fasting', 'tostadas', 'mashing', 'mug', 'meatballs', 'navratri', 'poricha', 'poke', 'equally', 'meen', 'prepping', 'lose', 'soppu', 'mulled', 'impurities', 'wilted', 'caster', 'heats', 'murungakkai', 'dragon', 'beetroots', 'dipped', 'bhog', 'depends', 'slivered', 'separated', 'curdle', 'olio', 'laal', 'bits', 'fire', 'manipuri', 'lets', 'alongside', 'vertically', 'karam', 'thumb', 'original', 'ivy', 'pulissery', 'toddlers', 'masiyal', 'vertical', 'bhaat', 'fermentation', 'restaurant', 'kulchas', 'crusty', 'aglio', 'manoli', 'smash', 'opposite', 'marinating', 'liquids', 'mind', 'charcoal', 'paturi', '160', 'sundried', 'ambat', 'wedge', 'blade', 'scrumptious', 'fritter', 'chapatis', 'mixie', 'sand', 'loosen', 'hara', 'month', 'tabasco', 'chakka', 'mouth', 'lady', 'cylinder', 'juliennes', 'curried', 'karuveppilai', 'tovve', 'squeezed', 'chirer', 'old', 'took', 'caprese', 'dont', 'ilish', 'tends', 'appams', 'kothamalli', 'boxes', 'overcrowd', 'peppercorn', 'sheera', 'shot', 'dhal', 'kachumbar', 'sabji', 'falafel', 'makai', 'ellu', 'inspired', 'mambazha', 'nutritious', 'mudde', 'ways', 'sprig', 'new', '24', 'purple', 'whipping', 'ease', 'bhakarwadi', 'starch', 'head', 'chunk', 'eye', 'ni', 'tsp', 'normal', 'puliyodharai', 'uppu', 'pleats', 'para', 'dips', 'uncooked', 'pakodas', 'my', 'cotton', 'empty', 'sorakkai', 'escape', 'firmly', 'package', 'means', 'across', 'char', 'direct', 'larger', 'strudel', 'rid', 'bitterness', 'floating', 'juicer', 'hari', 'packed', 'brushing', 'kasoori', 'satay', 'removed', 'bright', 'traditionally', 'achieve', 'vazhaipoo', 'push', 'koddel', 'tutti', 'those', 'basundi', 'softer', 'sari', 'idea', 'doodh', \"kofta's\", 'dondakaya', 'lumpy', 'turkish', 'galette', 'vankaya', 'pad', 'cracks', 'plantain', 'potli', 'flowers', 'urundai', 'separating', 'na', 'pops', 'folded', 'ceramic', 'sponge', 'rim', 'mavinakayi', '16', 'slaw', 'babies', 'natural', 'jhol', 'continuous', 'gur', 'greasing', 'evenings', 'tips', 'shami', 'saunf', 'kura', 'starters', 'watch', 'laddu', 'mascarpone', 'thayir', 'spluttering', 'appetiser', 'quiche', 'pattani', 'pak', 'kongunadu', 'inji', 'fillet', 'core', 'attach', 'pudla', 'straight', 'popcorn', 'paan', 'logs', 'pure', 'pear', 'learn', 'chickoo', 'vary', 'medu', 'lock', 'desire', 'varuval', 'marinara', 'lots', 'avalakki', 'inner', 'chitranna', 're', 'quarters', 'unsalted', 'beer', 'pooris', 'potol', 'silver', 'alternately', 'achar', 'sambharo', 'tend', 'pomegranates', 'bulbs', 'toffee', 'tooth', 'treat', 'number', 'pattice', 'blends', 'allows', 'thecha', 'pathiri', 'choy', 'laccha', 'karamani', 'modaks', 'urulai', 'okras', 'katori', 'popped', 'rough', 'mumbai', 'racks', 'stalks', 'results', 'frequently', 'amchoor', 'sauteing', 'gattas', 'fingertips', 'sealing', 'formation', 'discolouration', 'baklava', \"day's\", 'digestive', 'kara', 'adds', 'celcius', 'depression', '13', 'blueberries', 'flavourful', 'wrappers', 'collected', 'oranges', 'wonton', 'overcooked', 'were', 'fishes', \"let's\", 'kairichi', 'imli', 'jolada', 'shown', 'did', 'payesh', 'kadale', 'nolen', 'reserving', 'ribs', 'massage', 'pachai', 'vade', 'er', '250', 'achaari', 'groundnut', 'dhansak', '180c', 'avocados', 'pocket', 'bok', 'alfredo', 'kabab', 'liking', '375', 'caps', 'absolutely', 'puliyogare', 'ulundu', 'seep', 'ribbon', 'minestrone', 'version', 'bubbly', 'avarakkai', 'always', 'pazham', 'requirement', 'sizes', '60', 'strip', 'vathal', 'cantonese', 'chutneys', 'wafts', '3rd', 'wild', 'sea', 'please', 'groundnuts', 'fryer', 'legs', 'strained', 'appe', 'sukhe', 'elements', 'jug', 'iyengar', 'ulli', 'payaru', 'bajri', 'field', 'clarified', 'refrigeration', 'churn', \"that's\", 'sets', 'sprinkled', 'manner', 'bhajji', 'parcels', 'scallions', 'seekh', 'cracked', 'donut', 'tilt', 'mixes', 'mid', 'lavender', 'keri', 'lehsuni', 'jal', 'me', 'castor', 'section', 'gor', 'gooseberry', 'moringa', 'rind', 'appalam', 'jodhpuri', 'lahsuni', 'vengayam', 'soups', 'toaster', 'foam', 'khaman', 'anda', 'butterscotch', 'kewra', 'banjara', 'chayote', 'karanji', 'dana', 'tins', 'changed', 'rainy', 'timer', 'tulsi', 'paniyarams', 'shortbread', 'hoisin', 'tiramisu', 'setting', 'preserve', 'lines', 'roulade', 'putting', 'favourite', 'calzone', 'sound', 'require', 'maintain', 'hook', 'whenever', 'active', 'cider', 'suji', 'mamidikaya', 'bhuna', 'tur', 'dijon', 'sattu', 'mojito', 'lagan', 'coorg', 'spreadz', 'fryums', 'delicate', 'cantaloupe', 'float', 'gooey', 'dishes', 'fasten', 'handvo', 'crunchiness', 'betel', 'cross', 'jain', 'crumbles', 'majjige', 'delmonte', 'lacha', 'case', 'guilt', 'neither', 'nearly', 'wonderful', 'changing', 'sub', 'khichia', 'infuse', 'trail', 'saucy', 'bharli', 'indicates', 'dalna', 'simmered', 'manathakkali', 'puffing', 'tree', 'arachuvitta', 'gelatinous', 'finished', 'baati', 'peeler', 'pies', 'chakundar', 'raviolis', 'binding', 'banarasi', 'spluttered', 'u', 'draining', 'musallam', 'splash', 'smearing', 'indonesian', 'tambuli', 'dalma', 'jalfrezi', 'khandeshi', 'chestnuts', 'lau', 'mine', 'spoonfuls', 'tortellini', 'chiroti', 'smoky', 'linzer', 'persian', 'pattern', 'lip', 'think', 'leg', 'beginning', 'baatis', 'arrabiata', 'condensing', 'knock', 'anarsa', 'got', 'pyaza', 'dilute', 'gingelly', 'seedai', 'szechuan', 'sorbet', 'bhath', 'include', \"idli's\", 'khajur', 'bánh', 'meatball', 'kalakand', 'nozzle', 'cleaning', 'kadala', 'irani', 'arrowroot', 'nellikai', 'rock', 'cause', 'muskmelon', 'blossom', 'delectable', 'scatter', 'mediterranean', 'doughin', 'constant', 'fist', 'peach', 'chironji', 'consume', 'continental', 'observe', 'mathris', 'spirulina', 'crowd', 'completed', 'sausages', 'ajwaini', 'kumbakonam', 'kirai', 'result', 'tenga', 'gazpacho', 'bed', 'tbsp', 'idichakka', 'frutti', 'bisi', 'grams', 'munch', 'thandu', 'nor', 'gum', 'pavakkai', 'hilsa', 'tarkari', 'mud', 'experiment', 'join', 'sauceheat', 'oriya', \"'for\", 'yakisoba', 'pine', 'diagonal', 'kheema', 'assorted', 'seasonal', 'vellai', 'devein', 'shorshe', 'goreng', 'fillings', 'holiday', 'dim', 'moussaka', 'bechamel', 'crostini', 'canape', 'kathi', 'marie', 'legumes', 'roots', 'varutharacha', 'quite', 'mullangi', 'scraping', 'truffle', 'kari', 'ja', 'dessicated', 'obbattu', 'coulis', 'karelas', 'smacking', 'platform', 'lowest', 'doodhi', 'pradhaman', 'ladi', 'grating', 'seems', 'containing', 'tots', '¼', 'eno', 'maddur', 'ferments', 'chaman', 'ghonto', 'bhalla', 'sumptuous', 'navratan', 'shine', 'khamang', 'matta', 'boats', 'neem', 'authentic', 'mandi', 'croutons', 'tres', 'plantains', 'slather', 'effect', 'kulith', 'gorikayi', 'leches', 'period', 'rawa', 'lasagne', 'flourless', 'combination', 'pulpy', 'roses', 'khandvi', '500', 'segdalu', 'elaborate', 'aamras', 'phoron', 'goli', 'kurkuri', 'menthe', 'nei', 'kele', 'pudalangai', 'mm', 'rabdi', '175', 'having', 'aava', 'chapathi', 'malpuas', 'vrat', 'arranged', 'unmold', 'tater', 'southekayi', 'muttaikose', 'asidein', 'swiss', 'moving', 'galouti', 'bayleaf', 'pitcher', 'desi', 'warqi', 'silky', 'tambli', 'crisped', 'slivers', 'vagharela', 'vazhaithandu', 'sangri', 'plus', 'flan', 'rasa', 'ker', 'pumpkins', 'kovakkai', 'pointed', 'parboiled', 'stops', 'chakli', 'pacha', 'bati', 'anardana', 'essentially', 'qahwa', 'stretch', 'rabodi', 'sometimes', 'theplas', 'pesara', 'measuring', 'kodava', 'bolognese', 'who', '17', 'personally', 'sholay', 'bagel', 'softening', 'vanishes', 'knol', 'distance', 'chammanthi', 'churros', 'ven', 'steak', 'dog', 'button', 'what', 'kordoi', 'worry', 'shakshuka', 'ross', 'kung', 'basa', 'frothing', 'loses', 'brim', 'thali', 'slicing', 'sprigs', 'pitor', 'appetisers', 'instantly', 'gilka', 'things', 'kaffir', 'pao', 'bimbla', 'murg', 'mì', 'neatly', 'warmed', 'shelf', 'earthen', 'deviled', 'brittle', 'tartare', 'rawness', 'steaks', 'pressed', 'trays', 'healthier', 'holding', 'drizzled', 'gunde', 'cereal', 'soaks', 'sukha', 'pasanda', 'flaxseed', 'intermittently', 'amtekai', 'caraway', 'bloom', 'thighs', 'fajitas', 'tasting', 'teatime', 'pears', 'poached', 'quality', 'popsicle', 'bhujia', 'activate', 'lollipop', 'jo', 'julienne', 'muthiya', 'personal', 'bhendi', 'shrink', 'avakaya', 'tartlets', 'bharit', 'latex', 'sap', 'hassle', 'paddle', 'wise', 'cardamon', 'beautiful', 'burgers', 'muga', 'kharbuj', 'recipehomemade', 'eaten', 'pakodi', 'bhat', 'drunken', 'pretzels', 'th', 'shavige', 'raspberry', 'litti', 'tuna', 'considerably', 'chives', 'interesting', 'briefly', 'wax', 'spreads', 'coloured', 'ukadiche', 'due', 'kachri', 'sliders', 'cob', 'misal', 'dinners', 'aralu', 'comfort', 'reducing', 'singhare', 'kali', 'delightful', 'croquette', 'vein', 'gatta', 'pierce', 'avial', 'sauted', 'ghugni', 'cooler', 'monitoring', 'frankie', 'stalk', 'overlapping', 'panini', 'figaro', 'mark', 'scones', 'am', 'gingerbread', 'papads', 'rustic', 'dimsums', 'mass', 'loved', 'sai', 'asks', 'storing', 'machine', 'ziti', 'tough', 'cracker', 'pots', 'tuvar', 'secure', 'sukka', 'variety', 'six', 'biscotti', 'diamonds', 'bao', 'retaining', 'attain', 'shots', 'bitches', 'detox', 'solid', 'serveserve', 'pirandai', 'chewy', 'condensation', 'pizzas', 'heap', 'characteristic', 'josh', 'korean', 'milkshake', 'enchilada', 'zodiac', 'toasts', 'saar', 'rogan', 'tong', 'residual', 'vendhaya', 'fifteen', 'falafels', 'border', 'becoming', 'pasi', 'though', 'kick', 'kaalu', 'brussel', 'spiral', 'theeyal', 'dent', 'shakarkandi', 'pulses', 'maa', 'thaw', 'nasi', 'plums', 'farali', 'purely', 'covers', 'closing', 'namkeen', 'places', 'exactly', 'content', 'chopper', 'pakode', 'seer', 'lonche', 'mein', 'pahari', 'basket', '80', 'dollops', 'harden', 'ribbons', 'tendli', 'daal', 'delight', 'stripes', 'badeela', 'adequate', 'alternating', 'taken', 'mixtures', 'ambade', 'preethi', 'pori', 'jars', 'khaja', 'fluffs', 'flow', 'jhinge', 'lapsi', 'diluted', '90', 'curries', 'coins', 'serrated', 'chemmeen', 'boneless', 'chawli', 'bhune', 'summers', 'dhoklas', 'ring', \"pan's\", 'kanchipuram', 'settles', 'sabsige', 'macaroons', 'dosakaya', 'rocket', 'crème', 'initial', 'calzones', 'makhanas', \"'to\", 'bharma', 'harive', 'extracted', 'varan', 'kadle', 'heatproof', 'kibbeh', 'brings', 'silicon', 'simultaneously', 'metal', 'benefits', 'scooped', 'launji', 'capers', 'tagliatelle', 'something', 'pal', 'kondakadalai', 'parwals', 'massaman', 'works', 'impressions', 'saru', 'vent', 'impression', 'haleem', 'kopparai', 'bhetki', 'o', 'leche', 'pradesh', 'pineapples', 'advance', 'patted', 'broiler', 'fillingheat', 'burritos', 'cornmeal', 'panzanella', 'rubbery', 'tomatillo', 'however', 'zip', 'fitting', 'kadak', 'recipeheat', 'missi', 'difficult', 'biriyani', 'heel', 'fodi', 'bgein', 'angoori', 'chaap', 'karuvepillai', 'babycorn', 'gehun', 'condense', 'short', 'oxidation', 'chillis', 'pastas', 'enhance', 'fluted', 'swirls', 'opened', 'holy', 'kori', 'tuk', 'braid', 'pulling', 'folds', 'smoothly', 'pleating', 'against', 'material', 'charring', 'brew', 'labra', 'throughout', 'dab', 'dali', 'kat', 'arhar', 'udon', 'recipeto', 'sultanas', 'hog', 'khakhra', 'brulee', 'creme', 'die', 'various', 'khatte', 'kundru', 'thing', 'tissues', 'refined', 'prove', 'drip', 'srilankan', 'laddle', 'prune', 'totally', 'lehsun', 'heerekai', 'shanghai', 'grape', 'attached', 'turnips', 'kothu', 'appachetty', 'taro', 'uncover', 'alu', 'pork', 'dodo', 'chestnut', 'design', 'julienned', 'rotli', 'seviyan', 'residue', 'meant', 'sprinkles', 'chikki', 'sookhi', 'thukpa', 'kaleji', 'usli', 'fits', 'removable', 'thokku', 'creamed', 'breaks', 'yele', 'chilla', 'bakery', 'crullers', 'continues', 'xacuti', 'kai', 'aubergines', 'phalguni', 'bhuga', 'tail', 'mee', 'alone', 'hardens', 'chocolates', 'sausage', 'strong', 'mangai', 'oorugai', 'froyo', 'kakarakaya', 'cracking', 'curdled', 'gaps', 'appearing', 'delhi', 'chipotle', 'amazing', 'general', 'vatana', 'dharan', 'peruvian', 'peerkangai', 'ok', 'practice', 'ghevar', 'chokha', 'buy', 'uddamethi', 'chapor', 'muringakka', 'achieved', 'samvat', 'n', 'buttercream', 'vadis', 'initially', 'saoji', 'sana', 'fairly', 'tighten', 'khakra', 'pisarna', 'mason', 'irish', 'podimas', 'sudden', 'khooba', 'satori', 'langcha', 'smelling', 'he', 'hibiscus', 'creating', 'quartered', 'smeared', 'face', 'segments', 'truffles', 'kanda', 'chettinadu', 'correct', 'alla', 'kaiser', '325', 'arrabbiata', 'scallion', 'ladles', 'chaaru', 'cayenne', 'wadis', 'gotsu', 'mujaddara', 'position', 'smoother', 'countertop', 'anar', 'cajun', \"bonda's\", 'flash', 'thavala', 'russian', 'semicircle', 'shaking', 'tempura', 'immersion', 'modur', 'pleat', 'kothavarangai', 'rye', 'kavuni', 'curdling', 'koli', 'diye', 'bulgur', 'office', 'koshimbir', 'neat', 'parcel', 'akuri', 'pinched', 'gol', 'dividing', 'elder', 'canned', 'softness', 'poshto', 'sliminess', 'granulated', 'balance', 'mild', 'ringan', 'lunchbox', 'floret', 'murmura', 'ceylon', 'lal', 'sol', 'hyacinth', 'khichu', 'gehu', 'thotakura', 'napa', 'oozes', 'typically', 'ideal', 'sakkarai', 'individually', 'reaming', 'pirattal', 'wood', 'capsicums', 'golf', 'shrinks', 'coarser', 'hazelnut', 'accompanied', 'homogeneous', 'concentrated', 'continually', 'fettuccine', 'poee', 'vaangi', 'gelatine', 'kacche', 'kayi', 'apricot', 'usual', 'shall', 'mogre', 'body', 'fusilli', 'index', 'sieved', 'knot', 'fibre', 'rubbing', \"phulka's\", \"za'atar\", 'sardines', 'basbousa', 'components', 'halve', 'mag', 'envelope', 'lifafa', 'dove', 'dices', 'butternut', 'mandolin', 'loosely', 'moolangi', 'potluck', 'life', 'mole', 'plenty', 'sum', 'convection', 'toddler', 'rests', 'froths', '350f', 'undisturbed', 'cannot', 'canapes', 'expand', 'daliya', 'sew', 'cylinders', 'sabbasige', 'tikkas', 'bones', 'porota', 'boti', 'breadcrumb', 'brahmi', 'jalapeños', 'available', 'parmigiana', 'kache', 'fashion', 'baje', 'garelu', 'thee', 'squeezing', 'drizzling', 'kathiyawadi', 'rasavangi', 'quiet', 'saladin', 'matka', 'taiwanese', 'menthya', 'bella', 'swirling', 'gozleme', 'uthappam', 'oozing', 'jaipuri', 'dairy', 'sorakaya', 'masalaheat', 'deseeded', 'occasional', 'hurali', 'masaledar', 'previous', 'richer', 'motichoor', 'disturb', 'outward', 'bhindis', 'bitch', 'nepalese', 'usage', 'doddak', 'several', 'atte', 'brandy', 'existing', 'ramekin', 'shawarma', 'darsaan', 'badis', 'stages', 'keeps', 'dudhi', 'vivatta', 'odiya', 'kadalai', 'mishti', 'years', 'upwards', 'demould', 'crucial', 'padengi', 'gnocchi', 'welcome', 'sama', 'pulihora', 'submerge', \"they're\", 'rusk', 'seam', 'requires', 'discoloration', 'spanish', 'makhane', \"paste'\", '120', 'pakki', 'boondis', 'urulaikizhangu', 'choliya', 'roaring', 'unniyappam', 'moderately', 'yes', 'bhatt', 'oblong', 'strings', 'tirunelveli', 'thonnai', 'birthday', 'donne', 'caramelise', 'stomach', 'bhatura', 'verde', 'pheni', 'pomodoro', 'chembaruthi', 'mezhukkupuratti', 'mooga', 'graham', 'aar', 'allam', 'gulgule', 'rezala', 'ande', 'muddle', 'fiber', 'disks', 'skins', 'murabba', 'flaxseeds', 'arranging', 'freshness', 'taal', 'patting', 'mas', 'dimer', 'threads', 'triangular', 'vellarikka', 'spiralizer', 'pinwheel', 'lemony', 'hunan', 'chickenin', 'cowpea', 'crispier', 'uttarakhand', 'spongy', 'uttar', 'chenai', 'shikampuri', 'baba', 'moderate', 'club', \"vada's\", 'fluffed', 'multiple', 'onwards', 'rumali', \"dosa's\", 'fillingin', 'gauge', 'ganoush', 'coconuts', 'stuffingheat', 'bukhara', 'chila', 'balloon', 'chikkudukaya', \"tso's\", 'kimchi', 'switching', 'lifting', 'chikoo', 'acorn', 'dressingin', 'brewed', 'kalmi', 'kalyana', 'veetu', 'cozy', 'weather', 'kasundi', 'badshahi', 'byadgi', 'tuck', 'happens', 'rasgulla', 'rasgullas', 'colada', 'picture', 'iranian', 'warmly', 'tabbouleh', 'lucknowi', 'jalebi', 'type', 'rinsing', 'doneness', 'passion', 'kabila', 'lemons', 'radishes', 'tagine', 'rotla', 'sheer', 'kozhi', 'evaporating', 'el', 'kitchenaid', 'supple', 'kiwifruit', 'smashed', 'makhanwala', 'india', 'chilling', 'majjiga', 'barthad', 'ros', 'guest', 'upkari', 'mulakushyam', 'flattening', 'khao', 'chak', 'develops', 'moisten', 'keeme', 'sambol', 'nutrichoice', 'tok', 'adadiya', 'area', 'year', 'macarons', 'asparagus', 'marcha', 'granule', 'verkadalai', 'jack', 'subway', 'proofing', 'thattai', 'katli', 'nuggekai', 'happen', 'vol', 'kharbyaali', 'nendra', 'overcooking', 'tadkewali', 'ratatouille', 'jimikand', 'fills', 'concentric', 'eating', 'ovals', 'known', 'tindoras', 'elongated', 'curryheat', 'sunny', 'fruity', 'curls', 'punchy', 'peni', 'preferred', 'retains', 'phanu', 'paleo', 'assembly', 'desserts', 'ratalu', 'paani', 'tumbler', 'spout', 'alter', 'ulava', 'burner', 'rubber', 'rotating', 'colored', 'indicator', 'primavera', 'height', 'removal', 'insides', '22', 'pahadi', 'makhni', 'members', 'kolkata', 'godumai', 'neychoru', 'udid', 'mohan', 'monsoon', 'maharastrian', 'sasam', 'ujju', 'flavorful', 'muddler', 'croissant', 'oysters', 'consumed', 'nothing', 'anything', 'condiments', 'belly', 'pakistani', 'hrs', 'contact', 'discarding', 'israeli', 'extremely', 'pandu', 'kairi', 'mornings', 'odour', 'kandi', 'soppina', 'goond', 'gola', 'fajita', 'll', 'thenga', 'reverse', 'parappu', 'among', 'inserting', 'rather', 'say', 'payar', 'forest', 'manda', 'maach', 'measured', 'smells', 'cutters', 'goodness', 'garden', 'mangodi', 'honeycomb', 'blind', 'barbeque', 'bhogichi', 'zing', 'malabari', 'margarita', 'grapefruit', 'jelly', 'mojo', 'additions', 'ari', '425', 'pickles', 'tanginess', 'zucchinis', 'golpapdi', 'slicer', 'casicum', 'indent', 'overlap', 'southern', 'floats', 'bulb', 'khol', 'munthiri', 'doddapatre', 'sagle', 'chas', 'khurma', 'waiting', 'proceeding', 'shankarpali', 'varies', 'avarekaalu', 'thickly', 'sear', 'fizzy', 'patata', 'worcestershire', 'sort', 'galangal', 'tang', 'servings', 'shoap', 'mirapakaya', \"won't\", 'state', 'badami', 'mish', 'crusted', 'bharbhara', 'saagwala', 'vali', 'toddy', 'proofed', 'sakkaravalli', 'marshmallow', 'bombs', 'eight', 'pedas', 'naga', 'dante', 'trapped', 'distributed', 'ulundhu', 'amboli', 'pouch', 'fluffing', 'milli', \"shouldn't\", 'matzo', 'gond', 'doli', 'sukke', 'burned', 'varagu', 'amlechi', 'deeper', 'buttery', 'flutter', 'kibbi', 'crispness', 'cashewnut', 'szechwan', 'liter', 'papers', 'zesty', 'candy', 'dimsum', 'chaturthi', 'pora', 'shorbot', 'ganesh', 'poured', 'monitor', 'pudi', 'paka', 'spreadable', 'understand', 'arancini', 'sink', 'tetor', 'salads', 'kalu', 'doughnut', 'marmalade', 'german', 'swift', 'vera', 'kancha', 'normally', 'methods', 'watering', 'sim', 'winters', 'bhagar', 'bhara', 'moistened', 'kaya', 'dosai', 'punugulu', 'experience', 'kappa', 'darken', 'tidali', 'floor', 'chevdo', 'kosumalli', 'southe', 'mulakootal', 'bhey', 'brought', 'lollipops', 'raksha', 'bandhan', 'litre', 'malnad', 'undercooked', 'pabda', 'bags', 'batterin', 'won', 'processed', 'mani', 'dose', 'polo', 'khosha', 'motions', 'mackerels', 'nutri', 'chiles', 'applied', 'vadu', 'kapa', 'ras', 'khar', 'kuvale', 'cigars', 'dubki', 'fun', 'reshmi', 'basting', 'falling', 'bhang', 'kuthiraivali', 'gil', 'firdaus', 'utensil', 'bajre', \"roti's\", 'crushing', 'pulsing', 'granita', 'boat', 'jhure', 'fool', 'hittu', 'singhara', 'ambur', 'kumani', 'servedserve', 'agathi', 'kaalan', 'laddus', 'total', 'bow', 'saree', 'fattoush', 'relished', 'fan', 'chyawanprash', 'stovetop', 'sookha', 'sparkling', 'uneven', 'mustards', 'kitchenif', 'outwards', 'halbai', 'karjikai', 'nihari', 'roomali', 'proper', 'shark', 'reason', 'particles', 'book', 'gul', 'pachdi', 'centimetre', 'panchamel', 'yard', 'meethe', 'zarda', 'solkadhi', 'heads', 'clingfilm', 'schezuan', 'ayurvedic', 'chemba', 'kondai', 'inwards', 'shalgam', 'stars', 'garbanzo', 'patiala', 'zunka', 'sloppy', 'joe', 'velvet', 'kulambu', 'retained', 'cherupayar', 'sabakki', 'yourself', 'pide', 'dan', 'bottles', 'kfc', 'ideally', 'puliserry', 'ina', 'kodubale', \"lady's\", 'kachariyu', 'hang', 'salty', 'manual', 'janmashtami', 'raises', 'disappear', 'whirls', 'caesar', 'ambe', 'pukht', 'contain', 'typical', 'visit', 'turbo', 'kanghou', 'bhujiya', 'panasa', 'lachedar', 'pottu', 'enhances', 'hr', 'parsnips', '200c', 'movie', 'contains', 'madras', \"tempering'\", 'anhui', 'curl', 'children', 'himachal', \"kid's\", 'health', 'bone', 'fragrance', 'seafood', 'slip', 'mosaru', 'thuvaiyal', 'fansi', 'rasawala', 'kovil', 'fourth', 'rinsed', 'patches', 'fibrous', 'items', 'mullu', 'chand', 'busy', 'mahunada', 'planning', 'peak', 'foamy', 'nariyal', 'hesaru', 'lining', 'farm', 'shahjahani', 'manchow', 'created', 'burji', 'stickiness', 'colors', 'disturbing', 'skim', 'vepampoo', 'vetrilai', 'ghila', 'insalata', 'dhani', 'liberally', 'sangacho', 'nadru', 'peppery', 'besara', 'vaingana', 'odia', 'chaler', 'tehri', 'tom', 'lasun', 'decadent', 'potala', 'block', 'gouda', 'sterilised', 'savoured', 'salute', 'horlicks', 'dripping', 'thrice', 'ngang', 'unique', 'makka', 'sweetish', 'impress', 'kuzhipaniyaram', 'creates', 'yeruvalli', 'ham', 'mathachi', 'filtered', 'cobbler', 'polle', 'alasande', 'kheel', 'ayam', 'paddu', 'trotters', 'bagara', 'baaple', 'knots', 'nankhatai', \"here's\", 'kumror', 'ram', 'technique', 'chenchki', 'straining', 'sputters', 'ending', 'eastern', 'indulgent', 'rectangles', 'godhi', 'blob', 'standing', 'stromboli', 'chaal', 'kopi', 'links', 'tetley', 'rendang', 'gherkins', 'empanada', 'dappalam', 'atar', 'gathi', 'scone', 'likely', 'nongu', 'steadily', 'sage', 'pachi', 'satisfy', 'shepeche', 'malida', 'ravaiya', 'jamu', 'rasna', 'biting', 'clutter', 'nadan', 'cheriya', 'sakkare', 'grinded', 'secured', 'kumro', 'congee', 'shagoti', 'mackerel', 'mc', 'bilahi', 'boror', 'jello', 'supper', 'shashlik', 'peethi', '100', 'ji', 'karahi', 'puffy', 'kottai', 'pala', 'sutlac', 'worktop', 'samai', 'halloumi', 'chaats', 'amitar', 'jhal', 'select', 'visible', 'pettina', 'bedmi', 'rigati', 'gopalkala', 'koki', 'macerated', 'uchellu', 'twisters', 'mukkala', 'kit', 'wafer', 'chori', 'bhapa', 'kukul', 'veechu', 'show', 'stacked', 'artichokes', 'tennis', 'gathers', 'cannelloni', 'tisane', 'multi', 'although', 'sabbakki', 'raised', 'balchao', 'whichever', 'notes', 'greaseproof', 'tube', 'picnic', 'forefinger', 'haalbai', 'carpaccio', 'achappam', 'menasinakai', 'wade', 'sparkle', 'doughto', 'madeleine', 'ghotala', 'panjiri', 'cheesecloth', 'refrigerating', 'ping', 'pong', 'crinkle', 'tamatari', 'mostly', 'heaped', 'purée', 'flaxes', 'karara', 'saved', 'pulsed', 'obtain', 'surti', 'rassa', 'basanti', 'maravalli', 'drape', 'dhingri', 'roller', 'chekkalu', 'shak', 'ladwa', 'passed', 'kobi', 'pottukadalai', 'image', 'arises', 'muhammara', 'shaved', 'bursting', 'upittu', 'picnics', 'raswala', 'alugadde', 'kudampuli', 'crystals', 'bhakris', 'nourishing', 'struffoli', 'kaalimirri', 'sewai', 'cha', 'bhoplya', 'phanna', 'mizoram', 'nungu', 'lighter', 'mentye', 'laksa', 'falsa', 'perfection', 'maskachi', 'bilahir', 'kakuri', 'ciabatta', 'rotate', 'khumb', 'narikol', 'young', 'valsadi', 'lazy', 'wrapping', 'yakitori', 'donuts', 'tinde', 'letting', 'stretching', 'braiding', 'machli', 'thongpa', 'fov', 'trivet', 'wellington', 'mantou', 'hollandaise', 'totapuri', 'post', 'bari', 'moilee', 'pecans', 'ovens', 'sumac', 'olya', 'kadgi', 'chakko', 'cape', 'thechwani', 'p', 'eda', \"'\", 'swedish', 'key', '11', 'dangar', '70', 'sputtering', 'kodel', 'hue', 'spacing', 'chef', 'calcutta', 'thouthe', 'rope', 'kalo', 'pastries', 'freezing', 'gooseberries', 'unable', 'stacking', 'jamaican', 'delicately', 'surprise', 'shouldn', 'kandeshi', 'saagu', 'masalain', 'largest', 'approx', 'chest', 'crescent', 'shandong', 'cones', 'grey', 'salli', 'pavakka', 'raspberries', 'brushed', 'replace', 'kohlrabi', 'royal', 'entree', 'lavash', 'sieving', 'safed', 'deflate', 'saragva', 'perugu', 'rasedar', 'foogath', 'spill', 'offering', 'frilled', 'proven', 'dunk', 'watalappan', 'mulangi', 'oils', 'dhokar', 'mande', 'pulis', 'god', 'enable', 'cautiously', 'squish', 'cornflakes', 'streusel', 'balushahi', 'cough', 'overbeat', 'dudh', 'chanar', 'kaccha', 'chowmein', 'jerk', 'pricked', 'dome', 'especially', 'sign', 'briskly', 'mahali', 'dubuk', 'rai', 'market', 'underside', 'thalicha', 'navrang', 'cigar', 'stream', 'buttering', 'circulation', 'blanching', 'runs', 'sorrel', 'warmth', 'eventually', 'dropped', 'flaxmeal', 'hunger', 'tobacco', 'unmould', 'losing', 'anytime', 'sippe', 'anywhere', 'palakura', 'steady', 'paya', 'age', 'varuthathu', 'polos', 'ambul', 'sweets', 'æbleskivers', 'near', 'people', 'khichuri', 'bottoemd', 'interval', 'china', 'kaad', 'recipetake', 'submerged', 'direction', 'khadi', 'sizzled', 'poosanikai', 'madurai', 'menthi', 'settled', 'shoot', 'caldine', 'tricky', 'wired', 'paare', '28', 'limeade', 'gothsu', 'yield', 'cane', 'earthenware', 'dulce', '65', 'attained', 'aatishi', 'cases', 'indication', 'darker', 'katoris', 'toasting', 'nellor', 'emulsify', 'bird', 'stands', 'cucumbertini', 'arunachal', 'petha', 'recipein', 'flowy', 'malt', 'firmed', 'artichoke', 'hunase', 'pachhadi', 'fudgy', 'scrub', 'found', 'cheezza', 'parboil', 'demerara']\n"
          ]
        }
      ]
    },
    {
      "cell_type": "code",
      "source": [
        "print(model['onion'])"
      ],
      "metadata": {
        "colab": {
          "base_uri": "https://localhost:8080/"
        },
        "id": "CQbE4zVUvXfv",
        "outputId": "2d58e55c-1dd0-4a84-ad59-6d55580055da"
      },
      "execution_count": null,
      "outputs": [
        {
          "output_type": "stream",
          "name": "stdout",
          "text": [
            "[ 0.09902711  0.01184741 -0.02862673 -0.04113577  0.19548605  0.18984428\n",
            " -0.5845126   0.22081408  0.39360952  0.03045453 -0.08292536 -0.10132369\n",
            "  0.05253403 -0.10967723 -0.4753606  -0.07350073  0.28177553 -0.36435747\n",
            "  0.48579904  0.57860994 -0.07622817  0.34630895 -0.10617001  0.11525778\n",
            " -0.34063688 -0.10185952  0.2290851   0.03197568 -0.20855582  0.02033505\n",
            "  0.23366022 -0.21987621  0.2196111   0.04218991 -0.24740785  0.4978165\n",
            "  0.13675237 -0.06102437 -0.07508936  0.02506732  0.273619    0.36297572\n",
            "  0.26584345  0.17678645  0.40128735  0.03298722  0.4002846  -0.2818288\n",
            "  0.08759825  0.09638393 -0.25296515  0.49881268 -0.00759626  0.21571985\n",
            " -0.3573239  -0.05613255 -0.08584429  0.08038078 -0.27250105  0.1625337\n",
            "  0.0267628   0.14417304  0.11345052 -0.15144666  0.3571033  -0.43958408\n",
            " -0.31399018  0.27464956 -0.30081704  0.10949823 -0.37601897  0.2710958\n",
            "  0.6669255   0.37747607  0.2417211  -0.01481846 -0.13191909  0.03919427\n",
            " -0.06761649  0.3928331   0.8087632   0.15011305  0.31996518  0.17848502\n",
            "  0.7816578   0.37648627  0.59880143  0.25262344 -0.0954905   0.15708473\n",
            " -0.07504243 -0.01671829  0.4283404   0.31058547  0.02394186  0.14264676\n",
            "  0.03041085 -0.26460287  0.24040042 -0.3437835 ]\n"
          ]
        }
      ]
    },
    {
      "cell_type": "code",
      "source": [
        "print(model.labels)"
      ],
      "metadata": {
        "colab": {
          "base_uri": "https://localhost:8080/"
        },
        "id": "pJprV2tRChOG",
        "outputId": "9aba13d8-adb1-4133-cf3d-a6f864c4ad05"
      },
      "execution_count": null,
      "outputs": [
        {
          "output_type": "stream",
          "name": "stdout",
          "text": [
            "['the', 'and', 'a', 'to', 'add', 'it', 'in', 'with', 'for', 'of', 'recipe', 'heat', 'on', 'water', 'minutes', 'serve', 'oil', 'cook', 'powder', 'salt', 'is', 'into', 'until', 'pan', 'or', 'well', 'once', 'mix', '</s>', 'make', 'keep', 'you', 'till', 'begin', 'making', 'along', 'them', 'bowl', 'all', 'aside', 'this', 'seeds', 'turn', '2', 'rice', 'mixture', 'dough', 'your', 'about', 'off', 'leaves', 'cooked', 'pressure', 'stir', 'now', 'medium', 'as', 'will', 'dal', 'garlic', 'masala', 'place', '1', 'hot', 'let', 'are', 'over', 'green', 'red', 'take', 'allow', 'onions', 'chopped', 'paste', 'saute', 'some', 'coriander', 'after', 'curry', 'from', 'flour', '3', 'chicken', 'flame', 'little', 'at', 'can', 'ingredients', 'chilli', 'fry', 'done', 'brown', 'onion', 'out', '5', 'first', '10', '4', 'cooker', 'ginger', 'batter', 'sauce', 'then', 'coconut', 'boil', 'cumin', 'dry', 'sugar', 'soft', 'turmeric', 'if', 'cover', 'by', 'milk', 'cool', 'that', 'we', 'few', 'they', 'tomato', 'ghee', 'butter', 'taste', 'be', 'next', 'low', 'remove', 'ready', 'using', 'oven', 'style', 'chillies', 'smooth', 'cup', 'tomatoes', 'golden', 'mustard', 'meal', 'small', 'transfer', 'combine', 'seconds', 'pepper', 'an', 'get', 'top', 'together', 'pour', 'mixing', 'roasted', 'not', 'sprinkle', 'grind', 'chutney', 'when', 'roast', 'dinner', 'one', 'more', 'cheese', 'lemon', 'side', 'cut', 'vegetables', 'bread', 'adjust', 'juice', 'time', 'sides', 'paneer', 'mixer', 'give', 'pieces', 'minute', 'so', 'check', 'have', 'another', '15', 'baking', 'serving', 'set', 'salad', 'prepare', 'drain', 'wash', 'potatoes', 'roll', 'steamed', 'cream', 'spinach', 'garnish', 'soak', 'large', 'thick', 'like', 'potato', 'up', 'half', 'has', 'black', 'skillet', 'vegetable', 'down', 'kadai', 'spices', 'simmer', 'other', 'each', 'raw', 'spread', 'raita', 'same', 'teaspoon', 'whole', 'bring', '30', 'pasta', 'tablespoon', 'paratha', 'lunch', 'completely', 'bake', 'lid', 'beans', 'egg', 'switch', 'also', 'use', 'wheat', 'balls', 'remaining', 'cake', 'hours', 'warm', 'required', 'corn', 'grated', 'heavy', 'rest', 'saucepan', 'release', 'tea', 'filling', 'high', '20', 'whistles', 'do', 'plate', 'consistency', 'whisk', 'just', 'bottomed', 'chocolate', 'sweet', 'crackle', 'breakfast', 'stirring', 'yogurt', 'gravy', 'start', 'methi', 'preheat', 'fried', 'again', 'knead', 'while', 'spice', 'mango', 'both', 'carrot', 'cups', 'gently', 'turns', 'chili', 'dosa', 'cardamom', 'becomes', 'snack', 'olive', 'puree', 'garam', 'crisp', 'cinnamon', 'spicy', 'toss', 'light', 'cooking', 'grinder', 'step', 'ground', 'tamarind', 'become', 'sauté', 'comes', 'fresh', 'should', 'sabzi', 'open', 'adding', 'deep', 'spoon', 'eggs', 'paper', 'jaggery', 'curd', 'shape', 'wok', 'its', '6', 'everything', 'moong', '8', 'soup', 'urad', 'banana', 'put', 'naturally', 'chana', 'aloo', 'evenly', 'mint', 'enough', 'lightly', 'blend', 'tawa', 'sure', 'slices', 'any', 'mushroom', 'splutter', 'tadka', 'translucent', 'clean', 'two', 'chilies', 'grease', 'drizzle', 'colour', 'soaked', 'combined', 'cucumber', 'asafoetida', 'finally', 'process', 'slightly', 'mixed', 'peel', 'inch', 'blender', 'tray', 'fish', 'couple', 'oats', 'stick', 'tablespoons', 'delicious', 'through', 'form', 'boiled', 'dish', 'ball', 'idli', 'before', 'too', 'very', 'ki', 'dessert', 'peas', 'frying', 'flat', 'starts', 'immediately', 'meanwhile', 'chop', 'hour', 'weekday', 'flip', 'gets', 'boiling', 'thin', 'sambar', 'bit', 'smell', 'cloves', 'bottom', 'season', 'continue', 'baked', 'gas', 'press', 'firstly', 'coarse', 'jar', 'roti', 'chai', 'finely', 'least', 'good', 'indian', 'broccoli', '180', 'served', 'prepared', 'excess', 'nuts', 'coffee', 'sliced', 'even', 'sheet', 'carrots', 'portions', 'pumpkin', 'edges', 'cauliflower', 'mash', 'stuffed', 'fold', 'mushrooms', 'under', 'beetroot', 'creamy', 'noodles', 'steam', 'capsicum', 'seasoning', 'divide', 'fine', 'these', 'no', 'leaf', 'around', 'basil', 'slice', 'come', 'suit', 'sesame', 'weekend', 'mushy', 'tender', 'size', 'sandwich', 'skin', 'close', 'pinch', 'steamer', 'syrup', 'dip', 'cabbage', 'chaat', 'weeknight', 'gourd', 'c', 'bell', 'but', 'phulka', 'cooled', 'honey', 'bay', 'palak', 'beat', 'preheated', 'whistle', 'pizza', 'healthy', 'stage', 'tempering', 'rolling', 'coated', 'center', 'gram', 'surface', 'covered', 'peanuts', 'pudina', 'between', 'cashew', 'properly', 'mutton', 'rasam', 'layer', 'homemade', 'refrigerate', 'cubes', 'store', 'peppers', 'apple', 'glass', 'pulao', 'complete', 'fennel', '7', 'ice', 'hands', 'vanilla', 'evening', 'cold', 'enjoy', 'spring', 'leave', 'according', 'notice', 'carefully', 'reduce', 'coat', 'chickpeas', 'way', 'degree', 'away', 'ragi', 'fenugreek', 'hand', 'goes', 'besan', 'browned', 'help', 'color', 'dried', 'tofu', 'party', 'firm', 'overnight', 'brush', 'thai', 'slowly', 'crispy', 'dust', 'grill', 'flatten', 'during', 'orange', 'crushed', 'white', 'toast', 'kitchen', 'fruit', 'portion', 'equal', 'biryani', '12', 'need', 'saffron', 'sized', 'repeat', 'nice', 'rolled', 'which', 'container', 'prep', 'circle', 'onto', 'almonds', 'kadhi', 'see', 'thoroughly', 'towel', 'texture', 'jeera', 'drop', 'fruits', 'pineapple', 'spiced', 'continuously', 'aroma', 'fingers', 'hing', 'inside', 'bhindi', 'greased', 'puri', 'marinate', 'round', 'peanut', 'stuffing', 'thickens', 'cookies', 'sticky', 'grilled', 'celsius', 'flakes', 'arrange', 'temperature', 'soya', 'mexican', 'rava', 'shallow', 'wrap', 'mashed', 'fork', 'big', 'knife', 'pot', 'break', 'softened', 'powders', 'without', 'cloth', 'back', 'ka', 'released', 'vada', 'dressing', 'refrigerator', 'crust', 'lentils', 'wide', 'melted', 'food', 'lumps', 'ensure', 'quick', 'proceed', 'soften', 'tart', 'naan', 'melt', 'there', 'soy', 'sprouts', 'later', 'extract', 'including', 'zucchini', 'choice', 'baby', 'poriyal', 'paniyaram', 'kerala', 'i', 'eggplant', 'smoothie', 'millet', 'ladle', 'non', 'wet', 'almond', 'end', 'mentioned', 'either', 'wholesome', 'chilled', 'marinated', 'processor', 'brisk', 'vegetarian', 'parties', 'brinjal', 'accordingly', 'cookie', 'heated', 'degrees', 'apply', 'does', 'appetizer', 'separately', 'prawns', 'fill', 'such', 'air', 'room', 'bean', 'simple', 'mins', 'parchment', 'matar', 'platter', 'crumbs', 'bengali', 'strain', 'kuzhambu', 'freshly', 'vinegar', 'herbs', 'cheesy', 'lime', 'desired', 'base', 'pastry', 'needed', 'rolls', 'airtight', 'separate', 'gradually', 'pulp', 'oregano', '25', 'kofta', 'family', 'pie', 'quinoa', 'palm', 'rajma', 'peppercorns', 'assemble', 'per', 'south', 'long', 'sizzle', 'above', 'boondi', 'getting', 'poppy', 'foil', 'yeast', 'kashmiri', 'sunday', 'chunks', 'squeeze', 'seal', 'parathas', 'box', 'raisins', 'diameter', 'line', 'spatula', 'want', 'chettinad', 'cashews', 'pesto', 'filled', 'phulkas', 'slit', 'nicely', 'soda', 'toasted', 'eggless', 'used', 'centre', 'stock', 'kids', \"don't\", 'pickle', 'poha', 'almost', 'florets', 'stove', 'fluffy', 'levels', 'perfect', 'avoid', 'only', 'jackfruit', 'own', 'scoop', 'fridge', '200', 'halwa', 'much', 'andhra', 'absorbed', 'care', 'amount', 'spaghetti', 'made', 'moisture', 'pudding', 'lauki', 'date', 'pre', 'occasionally', 'times', 'bhaji', 'semolina', 'radish', 'palms', 'pakora', 'arbi', 'prevent', 'coarsely', 'running', 'drained', 'dhaniya', 'powdered', 'veggies', 'chinese', 'salsa', 'purpose', 'chickpea', 'strawberry', 'goan', 'chow', 'thicken', 'iron', 'papad', 'greens', 'similar', 'microwave', 'kebab', 'rose', 'except', 'melts', 'filter', 'releases', 'pat', 'sieve', 'mayo', 'would', 'roughly', 'marinade', 'yet', 'dhokla', 'pomegranate', 'fully', 'muffin', 'helps', 'dahi', 'cling', 'tikka', 'thoran', 'minced', 'full', 'seed', 'rack', 'keerai', 'buttermilk', 'how', 'absorbent', 'wait', 'toor', 'chips', 'kadhai', 'pav', 'method', 'shaped', 'middle', 'masalas', 'gujarati', 'extra', 's', 'pack', 'stem', 'point', 'mini', 'day', 'mangoes', 'softens', 'parsley', 'than', 'ajwain', 'karela', 'seasonings', 'parmesan', 'three', 'thickness', 't', 'lentil', 'crunchy', 'special', 'kala', 'rub', 'turning', 'caramelized', 'omelette', 'bananas', 'tandoori', 'drops', 'yellow', 'tight', 'may', 'tortilla', 'bottle', 'dates', 'forms', 'sour', 'karnataka', 'further', 'khichdi', 'crepe', 'discard', '40', 'greek', 'sit', 'avocado', 'leaving', 'kasuri', 'pachadi', 'inches', 'temper', 'chole', 'baingan', 'still', 'grate', 'free', 'kheer', 'our', 'part', 'washed', 'crumble', 'toothpick', 'keema', 'french', 'jowar', 'watermelon', 'everyday', 'burn', 'begins', 'pin', 'evaporated', 'cools', 'rajasthani', 'outer', 'pulse', 'approximately', 'sift', 'finger', 'tortillas', 'easy', 'liquid', 'bitter', 'cocoa', 'meat', 'drumstick', 'fritters', 'dark', 'patties', 'wire', 'kachumber', 'wine', 'rise', 'upma', 'pestle', 'papaya', 'piece', 'herbed', 'home', 'followed', 'strips', 'semi', 'hold', 'pistachios', 'broken', 'custard', 'yam', 'al', 'cooling', 'stiff', 'wedges', 'cavities', 'amchur', 'maharashtrian', 'lined', 'mortar', 'circular', 'takes', 'fragrant', 'dumplings', 'essence', 'quickly', 'achari', 'lachha', 'teaspoons', 'gobi', 'griddle', 'instant', 'masoor', 'cheesecake', 'brinjals', 'pancake', 'smear', 'rinse', 'maida', 'walnut', 'tikki', 'dals', 'flax', 'podi', 'makhani', 'absorb', 'snacks', 'hard', 'dente', 'cavity', 'morning', 'tin', 'elai', 'stand', 'mozzarella', 'makes', 'cutlet', 'lettuce', 'vadam', 'rosemary', 'punjabi', 'their', 'samosa', 'square', 'work', 'thyme', 'final', 'batches', 'chill', 'roasting', 'stew', 'bowls', 'vessel', 'kebabs', 'circles', 'walnuts', 'kneading', 'days', 'italian', 'electric', 'cheela', 'ladoo', 'thepla', \"it's\", 'feel', 'muffins', 'grinding', 'disc', 'loaf', 'flavors', 'tightly', 'noodle', 'changes', 'beaten', 'dill', 'pakoras', 'pickled', 'cutlets', '45', 'heating', 'left', 'flavours', 'aromas', 'important', 'plain', 'eggplants', 'feta', 'inserted', 'sooji', 'freezer', 'aromatic', 'spots', 'turned', 'itself', 'quantity', 'pyaz', 'sticking', 'cottage', 'dissolved', 'topping', 'caramel', 'coming', 'crepes', 'ketchup', 'summer', 'soaking', 'crush', 'blended', 'paprika', 'double', 'crumbled', 'bubbles', 'look', 'maker', 'paruppu', 'apples', 'dissolves', 'note', 'veg', 'bite', 'shredded', 'momo', 'order', 'pods', 'added', 'dum', 'every', 'skewer', 'damp', 'cutter', 'sprouted', 'lower', 'idlis', 'optionally', 'plates', 'star', 'olives', 'topped', 'keeping', 'similarly', 'friends', 'stuff', 'sabudana', 'since', 'school', 'zest', 'kootu', 'pita', 'buns', 'puff', 'comforting', 'regular', 'entire', 'brunch', 'bhurji', 'preparing', 'dollop', 'run', 'plastic', 'pound', 'penne', 'puli', 'right', 'incorporated', 'badam', 'aam', 'porridge', 'thandai', 'skewers', 'taco', 'thickened', 'amaranth', 'cherry', 'sev', 'whisked', 'looks', 'transparent', 'kuzhi', 'manchurian', 'amla', 'pancakes', 'coal', 'burnt', 'biscuits', 'nutmeg', 'fluff', 'burani', 'burger', 'grains', 'glasses', 'masher', 'wooden', 'apart', 'classic', '35', 'shapes', 'might', 'kesar', 'four', 'bajra', 'easily', 'hear', 'muslin', 'appam', 'strawberries', 'strands', 'sticks', 'outside', 'tangy', 'don', 'ridge', 'formed', 'finish', 'hummus', 'weight', 'celery', 'shahi', 'kachori', 'instructions', 'puffed', 'go', 'mooli', 'biscuit', 'suran', 'festive', 'vegan', 'makhana', 'appear', 'flavor', 'colander', 'drink', 'cubed', 'espresso', 'koftas', 'combines', 'insert', 'strainer', 'follow', 'faster', 'sindhi', 'condensed', '9', 'rich', 'nut', 'kozhukattai', 'speed', 'panna', 'eyed', 'payasam', 'optional', 'neer', 'been', 'parts', 'motion', 'stop', 'pressing', 'else', 'momos', 'collect', 'alternatively', 'could', 'flavour', 'chia', 'retain', 'film', 'ke', 'cilantro', 'foxtail', 'oatmeal', 'less', 'sadam', 'change', 'edge', 'risen', 'cast', 'smoked', 'sheets', 'vermicelli', 'pockets', 'palya', 'depending', 'traditional', 'herb', 'kulcha', 'generously', 'mangalorean', 'remain', 'five', 'lengthwise', 'whisking', 'burfi', 'swirl', 'evaporates', 'puris', 'whites', 'mor', 'directly', 'simmering', 'scrambled', 'glaze', 'flavored', 'malai', 'working', 'given', 'minimum', 'lukewarm', 'freeze', '4th', 'reaches', 'sautéed', 'separates', 'oat', 'second', 'muesli', 'last', 'slow', 'flattened', 'corns', 'asian', 'patty', 'anise', 'reserve', 'possible', 'okra', 'mode', 'reduced', 'handy', 'salted', 'whipped', 'steaming', 'shallots', 'protein', 'know', 'dhaba', 'sauteed', 'bajji', 'lump', 'prawn', 'soon', 'dipping', 'khoya', 'frosting', 'diced', 'vadas', 'crackles', 'de', 'blanch', 'great', 'mirchi', 'counter', 'panchmel', 'flipping', 'pliable', 'chapati', 'mousse', 'brownish', 'ends', 'pappu', 'bhakri', 'beet', 'basmati', 'doubled', 'gentle', 'level', 'listed', 'best', 'moist', 'cocktail', 'sun', 'leftover', 'cooks', 'try', 'flavoured', 'lift', 'longer', 'ferment', 'parwal', 'guests', 'charred', 'rotis', 'murgh', 'split', 'here', 'sizzler', 'mould', 'slotted', 'slide', 'dissolve', 'spoonful', 'cranberry', 'tamatar', 'moulds', 'kept', 'breast', 'nu', 'adrak', 'starter', 'cornflour', 'runny', 'pouring', 'night', 'uttapam', 'layers', 'shell', 'single', 'careful', 'grass', 'sauces', 'horse', 'f', 'recipes', 'thalipeeth', 'channa', 'smoking', 'overcook', 'resting', 'handle', 'kollu', 'kernels', 'resembles', 'covering', 'plum', 'sufficient', 'mayonnaise', 'closed', 'parotta', 'hence', 'immersed', 'broth', 'kabuli', 'pureed', 'thinly', 'cotta', 'atleast', 'peeled', 'mince', 'sandwiches', 'festivals', 'course', 'aluminium', 'marination', 'splutters', 'smoke', 'discs', 'sprout', 'individual', 'cupcake', 'gajar', 'mawa', 'rounds', 'flours', 'taking', 'shrimp', 'floured', 'kurma', 'couscous', 'dusting', 'gojju', 'was', 'most', 'breadcrumbs', 'additional', 'blanched', 'macaroni', 'cities', 'blitz', 'savory', 'towards', 'nutralite', 'sharp', 'ramekins', 'tikkis', 'find', 'list', 'samosas', 'ganache', 'caramelised', 'diabetic', 'ensuring', 'handi', 'space', 'kulfi', '350', 'placing', 'refrigerated', 'triangle', 'tap', 'tamil', 'meals', 'board', 'cutting', 'increase', 'mathri', 'kokum', 'crumbly', 'vigorously', 'house', 'peaks', 'constantly', 'nachos', 'rectangular', 'create', 'schezwan', 'bharwa', 'del', 'nadu', 'milagai', 'able', 'meantime', 'ahead', 'nonstick', 'halves', 'tip', 'figs', 'flower', 'mirch', 'amritsari', 'crumb', 'kidney', 'avarekalu', 'pani', 'hung', 'millets', 'pink', 'prefer', 'monte', 'pongal', 'thakkali', 'bought', 'punch', 'watery', 'cleaned', 'flames', 'brownie', 'touch', 'parsi', 'click', 'disappears', 'adai', 'khus', 'indo', 'diwali', 'pistachio', 'saag', 'mangalore', 'string', 'partially', 'piping', 'preference', 'batch', 'aur', 'petals', 'shaak', 'focaccia', 'sevai', 'squares', 'holes', 'test', 'intervals', 'karwar', 'bag', 'gulkand', 'thengai', 'thicker', 'bun', 'batata', 'crack', 'otherwise', 'main', 'wraps', 'veggie', 'semiya', 'icing', 'based', 'burning', 'hyderabadi', 'korma', 'lemongrass', 'bubbling', 'dumpling', 'waffle', 'layered', 'procedure', 'malvani', 'thogayal', 'quesadilla', 'chenna', 'fermented', 'folding', 'gelatin', 'prick', 'assamese', 'ricotta', 'automatically', 'poli', 'week', 'scramble', 'kaju', 'hariyali', 'ingredient', 'shaping', 'lotus', 'bath', 'volume', 'cakes', 'atta', 'move', 'gratin', 'shrimps', 'where', 'poori', 'shells', 'smaller', 'table', 'milagu', 'chopping', 'rotti', 'papdi', 'phirni', 'elaichi', 'below', 'frothy', 'packet', 'gone', 'melon', 'cornstarch', 'tacos', 'malabar', 'twice', 'buttered', 'buckwheat', 'us', 'reserved', 'prepped', 'risotto', 'bihari', 'ravioli', 'centigrade', 'north', 'muthia', 'gosht', 'casserole', 'gawar', 'starting', 'tava', 'bruschetta', 'wilt', 'barnyard', 'udupi', 'konkani', 'carom', 'manga', 'tzatziki', 'fig', 'rabri', 'tear', 'within', 'gatte', 'garnished', 'napkin', 'rings', 'infused', 'murukku', 'tiny', 'molds', 'juices', \"doesn't\", 'desiccated', 'months', 'puffs', 'bhaja', 'instruction', 'gulab', 'salan', 'lastly', 'guava', 'coats', 'iced', 'lot', 'pick', 'pull', 'includes', 'really', 'awadhi', 'chilly', 'sautéing', 'ladleful', 'reached', 'bubble', 'crunch', 'pea', 'triangles', 'vadai', 'pakoda', 'pilaf', 'vendakkai', 'fahrenheit', 'oval', 'must', 'yolk', 'cholar', 'panch', 'bamboo', 'addition', 'gather', 'bars', 'city', 'boils', 'snake', 'gassi', 'mysore', 'likewise', 'lobia', 'pista', 'wrapper', 'cheddar', 'coating', 'khatti', 'needs', 'instead', 'roundels', 'grounded', 'safe', 'slits', 'nutty', 'wish', 'broad', 'drumsticks', 'following', 'maple', 'favorite', 'steps', 'eat', 'nawabi', 'relish', 'bharta', 'tasty', '18', 'kachoris', 'moroccan', 'kizhangu', 'chivda', 'weeks', 'tindora', 'simply', 'tossed', 'releasing', 'facing', 'berries', 'kiwi', 'cupcakes', 'sichuan', 'scrape', 'thread', 'stems', 'yoghurt', 'sago', 'shake', 'vietnamese', 'raisin', 'chip', 'jamun', 'intact', 'lay', 'burrito', 'tossing', 'nutella', 'cuts', 'hakka', 'akki', 'whip', 'waffles', 'tissue', 'huli', 'blueberry', 'arugula', 'rajgira', 'quesadillas', 'deg', 'bonda', 'savoury', 'achaar', 'kalonji', 'hole', 'lassi', 'lovely', 'appetizers', 'grilling', 'gives', 'log', 'hearty', 'amti', 'au', 'kathirikai', 'parfait', 'torn', 'tester', 'boiler', 'muttai', 'guacamole', 'stay', 'jalapeno', 'sriracha', 'lankan', 'sri', 'aluminum', 'lemonade', 'dash', 'puttu', 'turai', 'pale', 'vengaya', 'pounded', 'containers', 'chena', 'saaru', 'proof', 'bind', 'pesarattu', 'tapioca', 'vepudu', 'coleslaw', 'different', 'gluten', 'crackled', 'washing', 'gujiya', 'posto', 'bhel', 'yummy', 'badi', 'pans', 'clear', 'croquettes', 'churma', 'crackling', 'removing', 'already', 'crackers', 'doi', '½', 'mung', 'nippattu', 'makki', 'generous', 'pearl', 'dries', 'fries', 'refreshing', 'goat', 'reduces', 'evaporate', 'phali', 'kathal', 'soggy', 'wilts', 'present', 'had', 'menu', 'usal', 'contents', 'multigrain', 'bites', 'steel', 'asafetida', 'kunafa', 'beater', 'grapes', 'rises', 'festival', 'sundal', 'granules', 'latte', 'perfectly', 'bacon', 'ada', 'preparation', 'clove', 'towels', 'sangria', 'flesh', 'kanji', 'applying', 'remember', 'spray', 'balsamic', 'cone', 'lasagna', 'plan', 'remains', 'fat', 'frozen', 'pinching', 'winter', 'palate', 'ten', 'often', 'jam', 'polenta', 'breasts', 'nutrition', 'pindi', 'necessary', 'paal', 'maas', 'cm', 'compote', 'ladies', 'assembling', 'replacer', 'ripe', 'sweetened', 'meetha', 'empanadas', 'energy', 'tie', 'pop', 'kale', 'gourds', 'chunky', 'tastes', 'forming', 'peri', 'harissa', 'dropping', 'allowing', 'chatpata', 'easier', 'wings', '50', 'choco', 'meethi', 'stone', 'brownies', 'incorporates', 'caramelize', 'barley', 'yolks', 'christmas', 'squash', 'vinaigrette', 'satisfying', 'ones', 'link', 'jasmine', 'super', 'browns', 'sunflower', 'loose', 'horizontally', 'usually', 'uniformly', 'placed', 'tahini', 'luchi', 'pair', 'occasion', 'going', 'measure', 'tall', 'agar', 'ash', 'fast', 'rested', 'slurry', 'reach', 'slight', 'chi', 'cherries', '170', 'dice', 'breaking', 'wipe', 'looking', 'sealed', 'stored', 'cluster', 'trim', 'absorbs', 'puran', 'granola', 'prunes', 'enchiladas', 'chops', 'afternoon', 'mace', 'breads', 'mughlai', 'being', 'phyllo', 'mold', 'koora', 'holi', 'haldi', 'hash', 'root', 'better', 'fall', '150', 'nimki', 'cranberries', 'beets', 'vadi', 'earlier', 'rectangle', 'oiled', 'namak', 'peels', 'upside', 'moon', 'drying', 'garnishing', 'doesn', 'bran', 'cucumbers', 'dalia', 'pulusu', 'murungai', 'chaas', 'invert', 'bele', 'opening', 'usili', 'settle', 'cylindrical', 'ladoos', 'upto', 'tempered', 'video', 'sweetness', 'third', 'senai', 'colocasia', 'peda', 'sprinkling', 'doing', 'ml', 'vindaloo', 'dusted', 'sarson', 'bengal', 'fit', 'giving', 'shred', 'wale', 'refried', 'corner', 'twist', 'tinda', 'charu', 'phoran', 'barbecue', 'moongphali', 'grain', 'chawal', 'modak', 'fudge', 'grainy', 'upper', 'skip', 'kesari', 'enos', 'satvik', 'length', 'wadi', 'lahsun', 'kela', 'malpua', 'gap', 'rum', 'browning', 'teriyaki', 'subzi', 'return', 'seasoned', 'layering', 'throw', 'payasa', 'uniform', 'cardamoms', 'springform', '220', 'friendly', 'peeling', 'pearls', 'mocktail', 'sizzling', 'berry', 'power', 'preferably', 'cube', 'tarts', 'pitha', 'tops', 'wali', 'quarter', 'maize', 'froth', 'yakhni', 'decorate', 'horsegram', 'britannia', 'gujiyas', 'x', 'trifle', 'uncovered', 'bigger', 'arisi', 'leeks', 'jalapenos', 'accompaniment', 'aval', 'sambal', 'save', 'spreading', 'vangi', 'kadubu', 'gobhi', 'ensures', 'tongs', 'liners', 'idiyappam', 'min', 'khara', 'hare', 'pinkish', 'nuggets', 'elastic', 'sukhi', 'chunda', 'bar', 'luke', 'glossy', 'bundi', 'dosas', 'goda', 'diagonally', 'disk', 'sundakkai', 'virgin', 'stays', 'nigella', 'kolhapuri', 'pass', 'tukda', 'sagu', 'diamond', 'dhokli', 'thinner', 'baguette', 'margherita', 'pinwheels', 'rasmalai', 'kosambari', 'flowing', 'corners', 'option', 'shiny', 'appears', 'popping', 'gongura', 'maximum', 'marble', 'recheado', 'love', 'stack', 'chat', 'shrikhand', 'bendekayi', 'wrapped', 'pomfret', 'frittata', 'apricots', 'kneaded', 'sweat', 'fusion', 'choose', 'chane', 'pakwan', 'pyaaz', 'kakdi', 'sandige', 'lebanese', '190', 'whey', 'chingri', 'edible', 'because', 'peshawari', 'oreo', 'glazed', 'beating', 'holds', 'juicy', 'jamuns', 'resemble', 'combining', 'etc', 'farfalle', 'thickening', 'bundt', 'vazhakkai', 'heart', 'centimeter', 'khatta', 'begun', 'sputter', 'hollow', 'pulav', 'prevents', 'sometime', 'flaky', 'ooze', 'souffle', 'melting', 'fillets', 'e', 'upon', 'whether', 'crisps', 'deseed', 'leek', 'many', 'macher', 'mocha', 'feels', 'sifted', 'occasions', 'dirt', 'doubles', 'flatbread', 'aubergine', 'japanese', 'develop', 'called', 'preheating', 'marks', 'moth', 'naans', 'ajar', 'pipe', 'sandesh', 'halved', 'cashewnuts', 'patta', 'stuck', '14', 'phool', 'incorporate', 'sizzles', 'halfway', 'lamb', 'himachali', 'rising', 'pod', 'chola', 'spoons', 'immerse', 'loaded', 'salmon', '400', 'dhania', 'started', 'mean', 'kaddu', 'poondu', 'smoothen', 'handful', 'par', 'sharbat', 'mesh', 'bringing', 'arabic', 'solution', 'matki', 'til', 'crab', 'decoction', 'peaches', 'toppings', 'shimla', 'barfi', 'broil', 'shikanji', 'attachment', 'grater', 'erissery', 'blending', 'checking', 'zoodles', 'bathua', 'fasting', 'tostadas', 'mashing', 'mug', 'meatballs', 'navratri', 'poricha', 'poke', 'equally', 'meen', 'prepping', 'lose', 'soppu', 'mulled', 'impurities', 'wilted', 'caster', 'heats', 'murungakkai', 'dragon', 'beetroots', 'dipped', 'bhog', 'depends', 'slivered', 'separated', 'curdle', 'olio', 'laal', 'bits', 'fire', 'manipuri', 'lets', 'alongside', 'vertically', 'karam', 'thumb', 'original', 'ivy', 'pulissery', 'toddlers', 'masiyal', 'vertical', 'bhaat', 'fermentation', 'restaurant', 'kulchas', 'crusty', 'aglio', 'manoli', 'smash', 'opposite', 'marinating', 'liquids', 'mind', 'charcoal', 'paturi', '160', 'sundried', 'ambat', 'wedge', 'blade', 'scrumptious', 'fritter', 'chapatis', 'mixie', 'sand', 'loosen', 'hara', 'month', 'tabasco', 'chakka', 'mouth', 'lady', 'cylinder', 'juliennes', 'curried', 'karuveppilai', 'tovve', 'squeezed', 'chirer', 'old', 'took', 'caprese', 'dont', 'ilish', 'tends', 'appams', 'kothamalli', 'boxes', 'overcrowd', 'peppercorn', 'sheera', 'shot', 'dhal', 'kachumbar', 'sabji', 'falafel', 'makai', 'ellu', 'inspired', 'mambazha', 'nutritious', 'mudde', 'ways', 'sprig', 'new', '24', 'purple', 'whipping', 'ease', 'bhakarwadi', 'starch', 'head', 'chunk', 'eye', 'ni', 'tsp', 'normal', 'puliyodharai', 'uppu', 'pleats', 'para', 'dips', 'uncooked', 'pakodas', 'my', 'cotton', 'empty', 'sorakkai', 'escape', 'firmly', 'package', 'means', 'across', 'char', 'direct', 'larger', 'strudel', 'rid', 'bitterness', 'floating', 'juicer', 'hari', 'packed', 'brushing', 'kasoori', 'satay', 'removed', 'bright', 'traditionally', 'achieve', 'vazhaipoo', 'push', 'koddel', 'tutti', 'those', 'basundi', 'softer', 'sari', 'idea', 'doodh', \"kofta's\", 'dondakaya', 'lumpy', 'turkish', 'galette', 'vankaya', 'pad', 'cracks', 'plantain', 'potli', 'flowers', 'urundai', 'separating', 'na', 'pops', 'folded', 'ceramic', 'sponge', 'rim', 'mavinakayi', '16', 'slaw', 'babies', 'natural', 'jhol', 'continuous', 'gur', 'greasing', 'evenings', 'tips', 'shami', 'saunf', 'kura', 'starters', 'watch', 'laddu', 'mascarpone', 'thayir', 'spluttering', 'appetiser', 'quiche', 'pattani', 'pak', 'kongunadu', 'inji', 'fillet', 'core', 'attach', 'pudla', 'straight', 'popcorn', 'paan', 'logs', 'pure', 'pear', 'learn', 'chickoo', 'vary', 'medu', 'lock', 'desire', 'varuval', 'marinara', 'lots', 'avalakki', 'inner', 'chitranna', 're', 'quarters', 'unsalted', 'beer', 'pooris', 'potol', 'silver', 'alternately', 'achar', 'sambharo', 'tend', 'pomegranates', 'bulbs', 'toffee', 'tooth', 'treat', 'number', 'pattice', 'blends', 'allows', 'thecha', 'pathiri', 'choy', 'laccha', 'karamani', 'modaks', 'urulai', 'okras', 'katori', 'popped', 'rough', 'mumbai', 'racks', 'stalks', 'results', 'frequently', 'amchoor', 'sauteing', 'gattas', 'fingertips', 'sealing', 'formation', 'discolouration', 'baklava', \"day's\", 'digestive', 'kara', 'adds', 'celcius', 'depression', '13', 'blueberries', 'flavourful', 'wrappers', 'collected', 'oranges', 'wonton', 'overcooked', 'were', 'fishes', \"let's\", 'kairichi', 'imli', 'jolada', 'shown', 'did', 'payesh', 'kadale', 'nolen', 'reserving', 'ribs', 'massage', 'pachai', 'vade', 'er', '250', 'achaari', 'groundnut', 'dhansak', '180c', 'avocados', 'pocket', 'bok', 'alfredo', 'kabab', 'liking', '375', 'caps', 'absolutely', 'puliyogare', 'ulundu', 'seep', 'ribbon', 'minestrone', 'version', 'bubbly', 'avarakkai', 'always', 'pazham', 'requirement', 'sizes', '60', 'strip', 'vathal', 'cantonese', 'chutneys', 'wafts', '3rd', 'wild', 'sea', 'please', 'groundnuts', 'fryer', 'legs', 'strained', 'appe', 'sukhe', 'elements', 'jug', 'iyengar', 'ulli', 'payaru', 'bajri', 'field', 'clarified', 'refrigeration', 'churn', \"that's\", 'sets', 'sprinkled', 'manner', 'bhajji', 'parcels', 'scallions', 'seekh', 'cracked', 'donut', 'tilt', 'mixes', 'mid', 'lavender', 'keri', 'lehsuni', 'jal', 'me', 'castor', 'section', 'gor', 'gooseberry', 'moringa', 'rind', 'appalam', 'jodhpuri', 'lahsuni', 'vengayam', 'soups', 'toaster', 'foam', 'khaman', 'anda', 'butterscotch', 'kewra', 'banjara', 'chayote', 'karanji', 'dana', 'tins', 'changed', 'rainy', 'timer', 'tulsi', 'paniyarams', 'shortbread', 'hoisin', 'tiramisu', 'setting', 'preserve', 'lines', 'roulade', 'putting', 'favourite', 'calzone', 'sound', 'require', 'maintain', 'hook', 'whenever', 'active', 'cider', 'suji', 'mamidikaya', 'bhuna', 'tur', 'dijon', 'sattu', 'mojito', 'lagan', 'coorg', 'spreadz', 'fryums', 'delicate', 'cantaloupe', 'float', 'gooey', 'dishes', 'fasten', 'handvo', 'crunchiness', 'betel', 'cross', 'jain', 'crumbles', 'majjige', 'delmonte', 'lacha', 'case', 'guilt', 'neither', 'nearly', 'wonderful', 'changing', 'sub', 'khichia', 'infuse', 'trail', 'saucy', 'bharli', 'indicates', 'dalna', 'simmered', 'manathakkali', 'puffing', 'tree', 'arachuvitta', 'gelatinous', 'finished', 'baati', 'peeler', 'pies', 'chakundar', 'raviolis', 'binding', 'banarasi', 'spluttered', 'u', 'draining', 'musallam', 'splash', 'smearing', 'indonesian', 'tambuli', 'dalma', 'jalfrezi', 'khandeshi', 'chestnuts', 'lau', 'mine', 'spoonfuls', 'tortellini', 'chiroti', 'smoky', 'linzer', 'persian', 'pattern', 'lip', 'think', 'leg', 'beginning', 'baatis', 'arrabiata', 'condensing', 'knock', 'anarsa', 'got', 'pyaza', 'dilute', 'gingelly', 'seedai', 'szechuan', 'sorbet', 'bhath', 'include', \"idli's\", 'khajur', 'bánh', 'meatball', 'kalakand', 'nozzle', 'cleaning', 'kadala', 'irani', 'arrowroot', 'nellikai', 'rock', 'cause', 'muskmelon', 'blossom', 'delectable', 'scatter', 'mediterranean', 'doughin', 'constant', 'fist', 'peach', 'chironji', 'consume', 'continental', 'observe', 'mathris', 'spirulina', 'crowd', 'completed', 'sausages', 'ajwaini', 'kumbakonam', 'kirai', 'result', 'tenga', 'gazpacho', 'bed', 'tbsp', 'idichakka', 'frutti', 'bisi', 'grams', 'munch', 'thandu', 'nor', 'gum', 'pavakkai', 'hilsa', 'tarkari', 'mud', 'experiment', 'join', 'sauceheat', 'oriya', \"'for\", 'yakisoba', 'pine', 'diagonal', 'kheema', 'assorted', 'seasonal', 'vellai', 'devein', 'shorshe', 'goreng', 'fillings', 'holiday', 'dim', 'moussaka', 'bechamel', 'crostini', 'canape', 'kathi', 'marie', 'legumes', 'roots', 'varutharacha', 'quite', 'mullangi', 'scraping', 'truffle', 'kari', 'ja', 'dessicated', 'obbattu', 'coulis', 'karelas', 'smacking', 'platform', 'lowest', 'doodhi', 'pradhaman', 'ladi', 'grating', 'seems', 'containing', 'tots', '¼', 'eno', 'maddur', 'ferments', 'chaman', 'ghonto', 'bhalla', 'sumptuous', 'navratan', 'shine', 'khamang', 'matta', 'boats', 'neem', 'authentic', 'mandi', 'croutons', 'tres', 'plantains', 'slather', 'effect', 'kulith', 'gorikayi', 'leches', 'period', 'rawa', 'lasagne', 'flourless', 'combination', 'pulpy', 'roses', 'khandvi', '500', 'segdalu', 'elaborate', 'aamras', 'phoron', 'goli', 'kurkuri', 'menthe', 'nei', 'kele', 'pudalangai', 'mm', 'rabdi', '175', 'having', 'aava', 'chapathi', 'malpuas', 'vrat', 'arranged', 'unmold', 'tater', 'southekayi', 'muttaikose', 'asidein', 'swiss', 'moving', 'galouti', 'bayleaf', 'pitcher', 'desi', 'warqi', 'silky', 'tambli', 'crisped', 'slivers', 'vagharela', 'vazhaithandu', 'sangri', 'plus', 'flan', 'rasa', 'ker', 'pumpkins', 'kovakkai', 'pointed', 'parboiled', 'stops', 'chakli', 'pacha', 'bati', 'anardana', 'essentially', 'qahwa', 'stretch', 'rabodi', 'sometimes', 'theplas', 'pesara', 'measuring', 'kodava', 'bolognese', 'who', '17', 'personally', 'sholay', 'bagel', 'softening', 'vanishes', 'knol', 'distance', 'chammanthi', 'churros', 'ven', 'steak', 'dog', 'button', 'what', 'kordoi', 'worry', 'shakshuka', 'ross', 'kung', 'basa', 'frothing', 'loses', 'brim', 'thali', 'slicing', 'sprigs', 'pitor', 'appetisers', 'instantly', 'gilka', 'things', 'kaffir', 'pao', 'bimbla', 'murg', 'mì', 'neatly', 'warmed', 'shelf', 'earthen', 'deviled', 'brittle', 'tartare', 'rawness', 'steaks', 'pressed', 'trays', 'healthier', 'holding', 'drizzled', 'gunde', 'cereal', 'soaks', 'sukha', 'pasanda', 'flaxseed', 'intermittently', 'amtekai', 'caraway', 'bloom', 'thighs', 'fajitas', 'tasting', 'teatime', 'pears', 'poached', 'quality', 'popsicle', 'bhujia', 'activate', 'lollipop', 'jo', 'julienne', 'muthiya', 'personal', 'bhendi', 'shrink', 'avakaya', 'tartlets', 'bharit', 'latex', 'sap', 'hassle', 'paddle', 'wise', 'cardamon', 'beautiful', 'burgers', 'muga', 'kharbuj', 'recipehomemade', 'eaten', 'pakodi', 'bhat', 'drunken', 'pretzels', 'th', 'shavige', 'raspberry', 'litti', 'tuna', 'considerably', 'chives', 'interesting', 'briefly', 'wax', 'spreads', 'coloured', 'ukadiche', 'due', 'kachri', 'sliders', 'cob', 'misal', 'dinners', 'aralu', 'comfort', 'reducing', 'singhare', 'kali', 'delightful', 'croquette', 'vein', 'gatta', 'pierce', 'avial', 'sauted', 'ghugni', 'cooler', 'monitoring', 'frankie', 'stalk', 'overlapping', 'panini', 'figaro', 'mark', 'scones', 'am', 'gingerbread', 'papads', 'rustic', 'dimsums', 'mass', 'loved', 'sai', 'asks', 'storing', 'machine', 'ziti', 'tough', 'cracker', 'pots', 'tuvar', 'secure', 'sukka', 'variety', 'six', 'biscotti', 'diamonds', 'bao', 'retaining', 'attain', 'shots', 'bitches', 'detox', 'solid', 'serveserve', 'pirandai', 'chewy', 'condensation', 'pizzas', 'heap', 'characteristic', 'josh', 'korean', 'milkshake', 'enchilada', 'zodiac', 'toasts', 'saar', 'rogan', 'tong', 'residual', 'vendhaya', 'fifteen', 'falafels', 'border', 'becoming', 'pasi', 'though', 'kick', 'kaalu', 'brussel', 'spiral', 'theeyal', 'dent', 'shakarkandi', 'pulses', 'maa', 'thaw', 'nasi', 'plums', 'farali', 'purely', 'covers', 'closing', 'namkeen', 'places', 'exactly', 'content', 'chopper', 'pakode', 'seer', 'lonche', 'mein', 'pahari', 'basket', '80', 'dollops', 'harden', 'ribbons', 'tendli', 'daal', 'delight', 'stripes', 'badeela', 'adequate', 'alternating', 'taken', 'mixtures', 'ambade', 'preethi', 'pori', 'jars', 'khaja', 'fluffs', 'flow', 'jhinge', 'lapsi', 'diluted', '90', 'curries', 'coins', 'serrated', 'chemmeen', 'boneless', 'chawli', 'bhune', 'summers', 'dhoklas', 'ring', \"pan's\", 'kanchipuram', 'settles', 'sabsige', 'macaroons', 'dosakaya', 'rocket', 'crème', 'initial', 'calzones', 'makhanas', \"'to\", 'bharma', 'harive', 'extracted', 'varan', 'kadle', 'heatproof', 'kibbeh', 'brings', 'silicon', 'simultaneously', 'metal', 'benefits', 'scooped', 'launji', 'capers', 'tagliatelle', 'something', 'pal', 'kondakadalai', 'parwals', 'massaman', 'works', 'impressions', 'saru', 'vent', 'impression', 'haleem', 'kopparai', 'bhetki', 'o', 'leche', 'pradesh', 'pineapples', 'advance', 'patted', 'broiler', 'fillingheat', 'burritos', 'cornmeal', 'panzanella', 'rubbery', 'tomatillo', 'however', 'zip', 'fitting', 'kadak', 'recipeheat', 'missi', 'difficult', 'biriyani', 'heel', 'fodi', 'bgein', 'angoori', 'chaap', 'karuvepillai', 'babycorn', 'gehun', 'condense', 'short', 'oxidation', 'chillis', 'pastas', 'enhance', 'fluted', 'swirls', 'opened', 'holy', 'kori', 'tuk', 'braid', 'pulling', 'folds', 'smoothly', 'pleating', 'against', 'material', 'charring', 'brew', 'labra', 'throughout', 'dab', 'dali', 'kat', 'arhar', 'udon', 'recipeto', 'sultanas', 'hog', 'khakhra', 'brulee', 'creme', 'die', 'various', 'khatte', 'kundru', 'thing', 'tissues', 'refined', 'prove', 'drip', 'srilankan', 'laddle', 'prune', 'totally', 'lehsun', 'heerekai', 'shanghai', 'grape', 'attached', 'turnips', 'kothu', 'appachetty', 'taro', 'uncover', 'alu', 'pork', 'dodo', 'chestnut', 'design', 'julienned', 'rotli', 'seviyan', 'residue', 'meant', 'sprinkles', 'chikki', 'sookhi', 'thukpa', 'kaleji', 'usli', 'fits', 'removable', 'thokku', 'creamed', 'breaks', 'yele', 'chilla', 'bakery', 'crullers', 'continues', 'xacuti', 'kai', 'aubergines', 'phalguni', 'bhuga', 'tail', 'mee', 'alone', 'hardens', 'chocolates', 'sausage', 'strong', 'mangai', 'oorugai', 'froyo', 'kakarakaya', 'cracking', 'curdled', 'gaps', 'appearing', 'delhi', 'chipotle', 'amazing', 'general', 'vatana', 'dharan', 'peruvian', 'peerkangai', 'ok', 'practice', 'ghevar', 'chokha', 'buy', 'uddamethi', 'chapor', 'muringakka', 'achieved', 'samvat', 'n', 'buttercream', 'vadis', 'initially', 'saoji', 'sana', 'fairly', 'tighten', 'khakra', 'pisarna', 'mason', 'irish', 'podimas', 'sudden', 'khooba', 'satori', 'langcha', 'smelling', 'he', 'hibiscus', 'creating', 'quartered', 'smeared', 'face', 'segments', 'truffles', 'kanda', 'chettinadu', 'correct', 'alla', 'kaiser', '325', 'arrabbiata', 'scallion', 'ladles', 'chaaru', 'cayenne', 'wadis', 'gotsu', 'mujaddara', 'position', 'smoother', 'countertop', 'anar', 'cajun', \"bonda's\", 'flash', 'thavala', 'russian', 'semicircle', 'shaking', 'tempura', 'immersion', 'modur', 'pleat', 'kothavarangai', 'rye', 'kavuni', 'curdling', 'koli', 'diye', 'bulgur', 'office', 'koshimbir', 'neat', 'parcel', 'akuri', 'pinched', 'gol', 'dividing', 'elder', 'canned', 'softness', 'poshto', 'sliminess', 'granulated', 'balance', 'mild', 'ringan', 'lunchbox', 'floret', 'murmura', 'ceylon', 'lal', 'sol', 'hyacinth', 'khichu', 'gehu', 'thotakura', 'napa', 'oozes', 'typically', 'ideal', 'sakkarai', 'individually', 'reaming', 'pirattal', 'wood', 'capsicums', 'golf', 'shrinks', 'coarser', 'hazelnut', 'accompanied', 'homogeneous', 'concentrated', 'continually', 'fettuccine', 'poee', 'vaangi', 'gelatine', 'kacche', 'kayi', 'apricot', 'usual', 'shall', 'mogre', 'body', 'fusilli', 'index', 'sieved', 'knot', 'fibre', 'rubbing', \"phulka's\", \"za'atar\", 'sardines', 'basbousa', 'components', 'halve', 'mag', 'envelope', 'lifafa', 'dove', 'dices', 'butternut', 'mandolin', 'loosely', 'moolangi', 'potluck', 'life', 'mole', 'plenty', 'sum', 'convection', 'toddler', 'rests', 'froths', '350f', 'undisturbed', 'cannot', 'canapes', 'expand', 'daliya', 'sew', 'cylinders', 'sabbasige', 'tikkas', 'bones', 'porota', 'boti', 'breadcrumb', 'brahmi', 'jalapeños', 'available', 'parmigiana', 'kache', 'fashion', 'baje', 'garelu', 'thee', 'squeezing', 'drizzling', 'kathiyawadi', 'rasavangi', 'quiet', 'saladin', 'matka', 'taiwanese', 'menthya', 'bella', 'swirling', 'gozleme', 'uthappam', 'oozing', 'jaipuri', 'dairy', 'sorakaya', 'masalaheat', 'deseeded', 'occasional', 'hurali', 'masaledar', 'previous', 'richer', 'motichoor', 'disturb', 'outward', 'bhindis', 'bitch', 'nepalese', 'usage', 'doddak', 'several', 'atte', 'brandy', 'existing', 'ramekin', 'shawarma', 'darsaan', 'badis', 'stages', 'keeps', 'dudhi', 'vivatta', 'odiya', 'kadalai', 'mishti', 'years', 'upwards', 'demould', 'crucial', 'padengi', 'gnocchi', 'welcome', 'sama', 'pulihora', 'submerge', \"they're\", 'rusk', 'seam', 'requires', 'discoloration', 'spanish', 'makhane', \"paste'\", '120', 'pakki', 'boondis', 'urulaikizhangu', 'choliya', 'roaring', 'unniyappam', 'moderately', 'yes', 'bhatt', 'oblong', 'strings', 'tirunelveli', 'thonnai', 'birthday', 'donne', 'caramelise', 'stomach', 'bhatura', 'verde', 'pheni', 'pomodoro', 'chembaruthi', 'mezhukkupuratti', 'mooga', 'graham', 'aar', 'allam', 'gulgule', 'rezala', 'ande', 'muddle', 'fiber', 'disks', 'skins', 'murabba', 'flaxseeds', 'arranging', 'freshness', 'taal', 'patting', 'mas', 'dimer', 'threads', 'triangular', 'vellarikka', 'spiralizer', 'pinwheel', 'lemony', 'hunan', 'chickenin', 'cowpea', 'crispier', 'uttarakhand', 'spongy', 'uttar', 'chenai', 'shikampuri', 'baba', 'moderate', 'club', \"vada's\", 'fluffed', 'multiple', 'onwards', 'rumali', \"dosa's\", 'fillingin', 'gauge', 'ganoush', 'coconuts', 'stuffingheat', 'bukhara', 'chila', 'balloon', 'chikkudukaya', \"tso's\", 'kimchi', 'switching', 'lifting', 'chikoo', 'acorn', 'dressingin', 'brewed', 'kalmi', 'kalyana', 'veetu', 'cozy', 'weather', 'kasundi', 'badshahi', 'byadgi', 'tuck', 'happens', 'rasgulla', 'rasgullas', 'colada', 'picture', 'iranian', 'warmly', 'tabbouleh', 'lucknowi', 'jalebi', 'type', 'rinsing', 'doneness', 'passion', 'kabila', 'lemons', 'radishes', 'tagine', 'rotla', 'sheer', 'kozhi', 'evaporating', 'el', 'kitchenaid', 'supple', 'kiwifruit', 'smashed', 'makhanwala', 'india', 'chilling', 'majjiga', 'barthad', 'ros', 'guest', 'upkari', 'mulakushyam', 'flattening', 'khao', 'chak', 'develops', 'moisten', 'keeme', 'sambol', 'nutrichoice', 'tok', 'adadiya', 'area', 'year', 'macarons', 'asparagus', 'marcha', 'granule', 'verkadalai', 'jack', 'subway', 'proofing', 'thattai', 'katli', 'nuggekai', 'happen', 'vol', 'kharbyaali', 'nendra', 'overcooking', 'tadkewali', 'ratatouille', 'jimikand', 'fills', 'concentric', 'eating', 'ovals', 'known', 'tindoras', 'elongated', 'curryheat', 'sunny', 'fruity', 'curls', 'punchy', 'peni', 'preferred', 'retains', 'phanu', 'paleo', 'assembly', 'desserts', 'ratalu', 'paani', 'tumbler', 'spout', 'alter', 'ulava', 'burner', 'rubber', 'rotating', 'colored', 'indicator', 'primavera', 'height', 'removal', 'insides', '22', 'pahadi', 'makhni', 'members', 'kolkata', 'godumai', 'neychoru', 'udid', 'mohan', 'monsoon', 'maharastrian', 'sasam', 'ujju', 'flavorful', 'muddler', 'croissant', 'oysters', 'consumed', 'nothing', 'anything', 'condiments', 'belly', 'pakistani', 'hrs', 'contact', 'discarding', 'israeli', 'extremely', 'pandu', 'kairi', 'mornings', 'odour', 'kandi', 'soppina', 'goond', 'gola', 'fajita', 'll', 'thenga', 'reverse', 'parappu', 'among', 'inserting', 'rather', 'say', 'payar', 'forest', 'manda', 'maach', 'measured', 'smells', 'cutters', 'goodness', 'garden', 'mangodi', 'honeycomb', 'blind', 'barbeque', 'bhogichi', 'zing', 'malabari', 'margarita', 'grapefruit', 'jelly', 'mojo', 'additions', 'ari', '425', 'pickles', 'tanginess', 'zucchinis', 'golpapdi', 'slicer', 'casicum', 'indent', 'overlap', 'southern', 'floats', 'bulb', 'khol', 'munthiri', 'doddapatre', 'sagle', 'chas', 'khurma', 'waiting', 'proceeding', 'shankarpali', 'varies', 'avarekaalu', 'thickly', 'sear', 'fizzy', 'patata', 'worcestershire', 'sort', 'galangal', 'tang', 'servings', 'shoap', 'mirapakaya', \"won't\", 'state', 'badami', 'mish', 'crusted', 'bharbhara', 'saagwala', 'vali', 'toddy', 'proofed', 'sakkaravalli', 'marshmallow', 'bombs', 'eight', 'pedas', 'naga', 'dante', 'trapped', 'distributed', 'ulundhu', 'amboli', 'pouch', 'fluffing', 'milli', \"shouldn't\", 'matzo', 'gond', 'doli', 'sukke', 'burned', 'varagu', 'amlechi', 'deeper', 'buttery', 'flutter', 'kibbi', 'crispness', 'cashewnut', 'szechwan', 'liter', 'papers', 'zesty', 'candy', 'dimsum', 'chaturthi', 'pora', 'shorbot', 'ganesh', 'poured', 'monitor', 'pudi', 'paka', 'spreadable', 'understand', 'arancini', 'sink', 'tetor', 'salads', 'kalu', 'doughnut', 'marmalade', 'german', 'swift', 'vera', 'kancha', 'normally', 'methods', 'watering', 'sim', 'winters', 'bhagar', 'bhara', 'moistened', 'kaya', 'dosai', 'punugulu', 'experience', 'kappa', 'darken', 'tidali', 'floor', 'chevdo', 'kosumalli', 'southe', 'mulakootal', 'bhey', 'brought', 'lollipops', 'raksha', 'bandhan', 'litre', 'malnad', 'undercooked', 'pabda', 'bags', 'batterin', 'won', 'processed', 'mani', 'dose', 'polo', 'khosha', 'motions', 'mackerels', 'nutri', 'chiles', 'applied', 'vadu', 'kapa', 'ras', 'khar', 'kuvale', 'cigars', 'dubki', 'fun', 'reshmi', 'basting', 'falling', 'bhang', 'kuthiraivali', 'gil', 'firdaus', 'utensil', 'bajre', \"roti's\", 'crushing', 'pulsing', 'granita', 'boat', 'jhure', 'fool', 'hittu', 'singhara', 'ambur', 'kumani', 'servedserve', 'agathi', 'kaalan', 'laddus', 'total', 'bow', 'saree', 'fattoush', 'relished', 'fan', 'chyawanprash', 'stovetop', 'sookha', 'sparkling', 'uneven', 'mustards', 'kitchenif', 'outwards', 'halbai', 'karjikai', 'nihari', 'roomali', 'proper', 'shark', 'reason', 'particles', 'book', 'gul', 'pachdi', 'centimetre', 'panchamel', 'yard', 'meethe', 'zarda', 'solkadhi', 'heads', 'clingfilm', 'schezuan', 'ayurvedic', 'chemba', 'kondai', 'inwards', 'shalgam', 'stars', 'garbanzo', 'patiala', 'zunka', 'sloppy', 'joe', 'velvet', 'kulambu', 'retained', 'cherupayar', 'sabakki', 'yourself', 'pide', 'dan', 'bottles', 'kfc', 'ideally', 'puliserry', 'ina', 'kodubale', \"lady's\", 'kachariyu', 'hang', 'salty', 'manual', 'janmashtami', 'raises', 'disappear', 'whirls', 'caesar', 'ambe', 'pukht', 'contain', 'typical', 'visit', 'turbo', 'kanghou', 'bhujiya', 'panasa', 'lachedar', 'pottu', 'enhances', 'hr', 'parsnips', '200c', 'movie', 'contains', 'madras', \"tempering'\", 'anhui', 'curl', 'children', 'himachal', \"kid's\", 'health', 'bone', 'fragrance', 'seafood', 'slip', 'mosaru', 'thuvaiyal', 'fansi', 'rasawala', 'kovil', 'fourth', 'rinsed', 'patches', 'fibrous', 'items', 'mullu', 'chand', 'busy', 'mahunada', 'planning', 'peak', 'foamy', 'nariyal', 'hesaru', 'lining', 'farm', 'shahjahani', 'manchow', 'created', 'burji', 'stickiness', 'colors', 'disturbing', 'skim', 'vepampoo', 'vetrilai', 'ghila', 'insalata', 'dhani', 'liberally', 'sangacho', 'nadru', 'peppery', 'besara', 'vaingana', 'odia', 'chaler', 'tehri', 'tom', 'lasun', 'decadent', 'potala', 'block', 'gouda', 'sterilised', 'savoured', 'salute', 'horlicks', 'dripping', 'thrice', 'ngang', 'unique', 'makka', 'sweetish', 'impress', 'kuzhipaniyaram', 'creates', 'yeruvalli', 'ham', 'mathachi', 'filtered', 'cobbler', 'polle', 'alasande', 'kheel', 'ayam', 'paddu', 'trotters', 'bagara', 'baaple', 'knots', 'nankhatai', \"here's\", 'kumror', 'ram', 'technique', 'chenchki', 'straining', 'sputters', 'ending', 'eastern', 'indulgent', 'rectangles', 'godhi', 'blob', 'standing', 'stromboli', 'chaal', 'kopi', 'links', 'tetley', 'rendang', 'gherkins', 'empanada', 'dappalam', 'atar', 'gathi', 'scone', 'likely', 'nongu', 'steadily', 'sage', 'pachi', 'satisfy', 'shepeche', 'malida', 'ravaiya', 'jamu', 'rasna', 'biting', 'clutter', 'nadan', 'cheriya', 'sakkare', 'grinded', 'secured', 'kumro', 'congee', 'shagoti', 'mackerel', 'mc', 'bilahi', 'boror', 'jello', 'supper', 'shashlik', 'peethi', '100', 'ji', 'karahi', 'puffy', 'kottai', 'pala', 'sutlac', 'worktop', 'samai', 'halloumi', 'chaats', 'amitar', 'jhal', 'select', 'visible', 'pettina', 'bedmi', 'rigati', 'gopalkala', 'koki', 'macerated', 'uchellu', 'twisters', 'mukkala', 'kit', 'wafer', 'chori', 'bhapa', 'kukul', 'veechu', 'show', 'stacked', 'artichokes', 'tennis', 'gathers', 'cannelloni', 'tisane', 'multi', 'although', 'sabbakki', 'raised', 'balchao', 'whichever', 'notes', 'greaseproof', 'tube', 'picnic', 'forefinger', 'haalbai', 'carpaccio', 'achappam', 'menasinakai', 'wade', 'sparkle', 'doughto', 'madeleine', 'ghotala', 'panjiri', 'cheesecloth', 'refrigerating', 'ping', 'pong', 'crinkle', 'tamatari', 'mostly', 'heaped', 'purée', 'flaxes', 'karara', 'saved', 'pulsed', 'obtain', 'surti', 'rassa', 'basanti', 'maravalli', 'drape', 'dhingri', 'roller', 'chekkalu', 'shak', 'ladwa', 'passed', 'kobi', 'pottukadalai', 'image', 'arises', 'muhammara', 'shaved', 'bursting', 'upittu', 'picnics', 'raswala', 'alugadde', 'kudampuli', 'crystals', 'bhakris', 'nourishing', 'struffoli', 'kaalimirri', 'sewai', 'cha', 'bhoplya', 'phanna', 'mizoram', 'nungu', 'lighter', 'mentye', 'laksa', 'falsa', 'perfection', 'maskachi', 'bilahir', 'kakuri', 'ciabatta', 'rotate', 'khumb', 'narikol', 'young', 'valsadi', 'lazy', 'wrapping', 'yakitori', 'donuts', 'tinde', 'letting', 'stretching', 'braiding', 'machli', 'thongpa', 'fov', 'trivet', 'wellington', 'mantou', 'hollandaise', 'totapuri', 'post', 'bari', 'moilee', 'pecans', 'ovens', 'sumac', 'olya', 'kadgi', 'chakko', 'cape', 'thechwani', 'p', 'eda', \"'\", 'swedish', 'key', '11', 'dangar', '70', 'sputtering', 'kodel', 'hue', 'spacing', 'chef', 'calcutta', 'thouthe', 'rope', 'kalo', 'pastries', 'freezing', 'gooseberries', 'unable', 'stacking', 'jamaican', 'delicately', 'surprise', 'shouldn', 'kandeshi', 'saagu', 'masalain', 'largest', 'approx', 'chest', 'crescent', 'shandong', 'cones', 'grey', 'salli', 'pavakka', 'raspberries', 'brushed', 'replace', 'kohlrabi', 'royal', 'entree', 'lavash', 'sieving', 'safed', 'deflate', 'saragva', 'perugu', 'rasedar', 'foogath', 'spill', 'offering', 'frilled', 'proven', 'dunk', 'watalappan', 'mulangi', 'oils', 'dhokar', 'mande', 'pulis', 'god', 'enable', 'cautiously', 'squish', 'cornflakes', 'streusel', 'balushahi', 'cough', 'overbeat', 'dudh', 'chanar', 'kaccha', 'chowmein', 'jerk', 'pricked', 'dome', 'especially', 'sign', 'briskly', 'mahali', 'dubuk', 'rai', 'market', 'underside', 'thalicha', 'navrang', 'cigar', 'stream', 'buttering', 'circulation', 'blanching', 'runs', 'sorrel', 'warmth', 'eventually', 'dropped', 'flaxmeal', 'hunger', 'tobacco', 'unmould', 'losing', 'anytime', 'sippe', 'anywhere', 'palakura', 'steady', 'paya', 'age', 'varuthathu', 'polos', 'ambul', 'sweets', 'æbleskivers', 'near', 'people', 'khichuri', 'bottoemd', 'interval', 'china', 'kaad', 'recipetake', 'submerged', 'direction', 'khadi', 'sizzled', 'poosanikai', 'madurai', 'menthi', 'settled', 'shoot', 'caldine', 'tricky', 'wired', 'paare', '28', 'limeade', 'gothsu', 'yield', 'cane', 'earthenware', 'dulce', '65', 'attained', 'aatishi', 'cases', 'indication', 'darker', 'katoris', 'toasting', 'nellor', 'emulsify', 'bird', 'stands', 'cucumbertini', 'arunachal', 'petha', 'recipein', 'flowy', 'malt', 'firmed', 'artichoke', 'hunase', 'pachhadi', 'fudgy', 'scrub', 'found', 'cheezza', 'parboil', 'demerara']\n"
          ]
        }
      ]
    }
  ]
}